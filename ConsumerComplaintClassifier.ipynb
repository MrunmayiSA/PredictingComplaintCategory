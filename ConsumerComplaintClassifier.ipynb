{
  "nbformat": 4,
  "nbformat_minor": 0,
  "metadata": {
    "colab": {
      "name": "ConsumerComplaintClassifier.ipynb",
      "provenance": []
    },
    "kernelspec": {
      "name": "python3",
      "display_name": "Python 3"
    }
  },
  "cells": [
    {
      "cell_type": "markdown",
      "metadata": {
        "id": "LbI1eX_lqxyN"
      },
      "source": [
        "# Predicting category of consumer complaint\r\n",
        "\r\n",
        "### Text Classification using Logistic Regression, Random Forest, SVM, Naive Bayes, LSTM"
      ]
    },
    {
      "cell_type": "markdown",
      "metadata": {
        "id": "Pt_RQT80quvp"
      },
      "source": [
        "Given a consumer complaint narrative, the model attempts to predict which product the complaint is about. This includes extracting top product categories and creating an ML model to classify the complaints (based on their descriptions) into one of these categories. I also predicted the category for new unseen complaints. "
      ]
    },
    {
      "cell_type": "code",
      "metadata": {
        "colab": {
          "base_uri": "https://localhost:8080/"
        },
        "id": "WdEKlVvorT_P",
        "outputId": "c1404b3b-ace5-4551-bed3-9d0f64999b0d"
      },
      "source": [
        "import pandas as pd\r\n",
        "df = pd.read_csv('/content/consumer_complaints.csv')\r\n",
        "df.info()"
      ],
      "execution_count": 1,
      "outputs": [
        {
          "output_type": "stream",
          "text": [
            "/usr/local/lib/python3.7/dist-packages/IPython/core/interactiveshell.py:2718: DtypeWarning: Columns (5,11) have mixed types.Specify dtype option on import or set low_memory=False.\n",
            "  interactivity=interactivity, compiler=compiler, result=result)\n"
          ],
          "name": "stderr"
        },
        {
          "output_type": "stream",
          "text": [
            "<class 'pandas.core.frame.DataFrame'>\n",
            "RangeIndex: 555957 entries, 0 to 555956\n",
            "Data columns (total 18 columns):\n",
            " #   Column                        Non-Null Count   Dtype \n",
            "---  ------                        --------------   ----- \n",
            " 0   date_received                 555957 non-null  object\n",
            " 1   product                       555957 non-null  object\n",
            " 2   sub_product                   397635 non-null  object\n",
            " 3   issue                         555957 non-null  object\n",
            " 4   sub_issue                     212622 non-null  object\n",
            " 5   consumer_complaint_narrative  66806 non-null   object\n",
            " 6   company_public_response       85124 non-null   object\n",
            " 7   company                       555957 non-null  object\n",
            " 8   state                         551070 non-null  object\n",
            " 9   zipcode                       551452 non-null  object\n",
            " 10  tags                          77959 non-null   object\n",
            " 11  consumer_consent_provided     123458 non-null  object\n",
            " 12  submitted_via                 555957 non-null  object\n",
            " 13  date_sent_to_company          555957 non-null  object\n",
            " 14  company_response_to_consumer  555957 non-null  object\n",
            " 15  timely_response               555957 non-null  object\n",
            " 16  consumer_disputed?            555957 non-null  object\n",
            " 17  complaint_id                  555957 non-null  int64 \n",
            "dtypes: int64(1), object(17)\n",
            "memory usage: 76.3+ MB\n"
          ],
          "name": "stdout"
        }
      ]
    },
    {
      "cell_type": "code",
      "metadata": {
        "colab": {
          "base_uri": "https://localhost:8080/"
        },
        "id": "8kQf2wo4r3yA",
        "outputId": "695a638a-8c56-4cca-a6eb-6eda20d6d6d6"
      },
      "source": [
        "df['product'].value_counts()"
      ],
      "execution_count": 2,
      "outputs": [
        {
          "output_type": "execute_result",
          "data": {
            "text/plain": [
              "Mortgage                   186475\n",
              "Debt collection            101052\n",
              "Credit reporting            91854\n",
              "Credit card                 66468\n",
              "Bank account or service     62563\n",
              "Consumer Loan               20990\n",
              "Student loan                15839\n",
              "Payday loan                  3877\n",
              "Money transfers              3812\n",
              "Prepaid card                 2470\n",
              "Other financial service       557\n",
              "Name: product, dtype: int64"
            ]
          },
          "metadata": {
            "tags": []
          },
          "execution_count": 2
        }
      ]
    },
    {
      "cell_type": "markdown",
      "metadata": {
        "id": "fh1cexExsCgT"
      },
      "source": [
        "#### Feature Engineering\r\n",
        "\r\n",
        "1. Consolidate “Credit reporting” into “Credit reporting, credit repair services, or other personal consumer reports”.\r\n",
        "2. Consolidate “Credit card” into “Credit card or prepaid card”.\r\n",
        "3. Consolidate “Payday loan” into “Payday loan, title loan, or personal loan”.\r\n",
        "4. Consolidate “Virtual currency” into “Money transfer, virtual currency, or money service”.\r\n",
        "5. Remove “Other financial service” "
      ]
    },
    {
      "cell_type": "code",
      "metadata": {
        "colab": {
          "base_uri": "https://localhost:8080/"
        },
        "id": "FelHbqHisZ08",
        "outputId": "e7b561d0-e469-43a3-a194-580e329f6ebb"
      },
      "source": [
        "df.loc[df['product'] == 'Credit reporting', 'product'] = 'Credit reporting, credit repair services, or other personal consumer reports'\r\n",
        "df.loc[df['product'] == 'Credit card', 'product'] = 'Credit card or prepaid card'\r\n",
        "df.loc[df['product'] == 'Payday loan', 'product'] = 'Payday loan, title loan, or personal loan'\r\n",
        "df.loc[df['product'] == 'Virtual currency', 'product'] = 'Money transfer, virtual currency, or money service'\r\n",
        "df = df[df['product'] != 'Other financial service']\r\n",
        "df.shape"
      ],
      "execution_count": 3,
      "outputs": [
        {
          "output_type": "execute_result",
          "data": {
            "text/plain": [
              "(555400, 18)"
            ]
          },
          "metadata": {
            "tags": []
          },
          "execution_count": 3
        }
      ]
    },
    {
      "cell_type": "code",
      "metadata": {
        "colab": {
          "base_uri": "https://localhost:8080/"
        },
        "id": "i3JGNvl60a88",
        "outputId": "019e4ce3-56e9-4429-bad4-a3e5e14b9b9f"
      },
      "source": [
        "df = df[df['consumer_complaint_narrative'].notna()]\r\n",
        "df.shape"
      ],
      "execution_count": 4,
      "outputs": [
        {
          "output_type": "execute_result",
          "data": {
            "text/plain": [
              "(66696, 18)"
            ]
          },
          "metadata": {
            "tags": []
          },
          "execution_count": 4
        }
      ]
    },
    {
      "cell_type": "code",
      "metadata": {
        "colab": {
          "base_uri": "https://localhost:8080/",
          "height": 661
        },
        "id": "Tgye3-iLshVg",
        "outputId": "db8002d3-d883-451a-9873-8979926fa609"
      },
      "source": [
        "import matplotlib.pyplot as plt\r\n",
        "\r\n",
        "products = df['product'].value_counts().sort_values(ascending=False)\r\n",
        "plt.ylabel('Number of Complaints')\r\n",
        "plt.xlabel('Products')\r\n",
        "plt.xticks(rotation='90')\r\n",
        "plt.bar(products.index, products.values)"
      ],
      "execution_count": 5,
      "outputs": [
        {
          "output_type": "execute_result",
          "data": {
            "text/plain": [
              "<BarContainer object of 10 artists>"
            ]
          },
          "metadata": {
            "tags": []
          },
          "execution_count": 5
        },
        {
          "output_type": "display_data",
          "data": {
            "image/png": "[encoded data removed]",
            "text/plain": [
              "<Figure size 432x288 with 1 Axes>"
            ]
          },
          "metadata": {
            "tags": [],
            "needs_background": "light"
          }
        }
      ]
    },
    {
      "cell_type": "markdown",
      "metadata": {
        "id": "t0cvNF2JHRp-"
      },
      "source": [
        "To train supervised classifiers, we first transformed the “Consumer complaint narrative” into a vector of numbers. \r\n",
        "We then explore vector representations such as TF-IDF weighted vectors."
      ]
    },
    {
      "cell_type": "code",
      "metadata": {
        "colab": {
          "base_uri": "https://localhost:8080/",
          "height": 429
        },
        "id": "p2PBn2sEUIEb",
        "outputId": "86850ddd-c2c3-448b-81f1-b3974430ce20"
      },
      "source": [
        "df['category_id'] = df['product'].factorize()[0]\r\n",
        "category_id_df = df[['product', 'category_id']].drop_duplicates().sort_values('category_id')\r\n",
        "category_to_id = dict(category_id_df.values)\r\n",
        "id_to_category = dict(category_id_df[['category_id', 'product']].values)\r\n",
        "df.head()"
      ],
      "execution_count": 6,
      "outputs": [
        {
          "output_type": "execute_result",
          "data": {
            "text/html": [
              "<div>\n",
              "<style scoped>\n",
              "    .dataframe tbody tr th:only-of-type {\n",
              "        vertical-align: middle;\n",
              "    }\n",
              "\n",
              "    .dataframe tbody tr th {\n",
              "        vertical-align: top;\n",
              "    }\n",
              "\n",
              "    .dataframe thead th {\n",
              "        text-align: right;\n",
              "    }\n",
              "</style>\n",
              "<table border=\"1\" class=\"dataframe\">\n",
              "  <thead>\n",
              "    <tr style=\"text-align: right;\">\n",
              "      <th></th>\n",
              "      <th>date_received</th>\n",
              "      <th>product</th>\n",
              "      <th>sub_product</th>\n",
              "      <th>issue</th>\n",
              "      <th>sub_issue</th>\n",
              "      <th>consumer_complaint_narrative</th>\n",
              "      <th>company_public_response</th>\n",
              "      <th>company</th>\n",
              "      <th>state</th>\n",
              "      <th>zipcode</th>\n",
              "      <th>tags</th>\n",
              "      <th>consumer_consent_provided</th>\n",
              "      <th>submitted_via</th>\n",
              "      <th>date_sent_to_company</th>\n",
              "      <th>company_response_to_consumer</th>\n",
              "      <th>timely_response</th>\n",
              "      <th>consumer_disputed?</th>\n",
              "      <th>complaint_id</th>\n",
              "      <th>category_id</th>\n",
              "    </tr>\n",
              "  </thead>\n",
              "  <tbody>\n",
              "    <tr>\n",
              "      <th>190126</th>\n",
              "      <td>03/19/2015</td>\n",
              "      <td>Debt collection</td>\n",
              "      <td>Other (i.e. phone, health club, etc.)</td>\n",
              "      <td>Cont'd attempts collect debt not owed</td>\n",
              "      <td>Debt was paid</td>\n",
              "      <td>XXXX has claimed I owe them {$27.00} for XXXX ...</td>\n",
              "      <td>NaN</td>\n",
              "      <td>Diversified Consultants, Inc.</td>\n",
              "      <td>NY</td>\n",
              "      <td>121XX</td>\n",
              "      <td>Older American</td>\n",
              "      <td>Consent provided</td>\n",
              "      <td>Web</td>\n",
              "      <td>03/19/2015</td>\n",
              "      <td>Closed with explanation</td>\n",
              "      <td>Yes</td>\n",
              "      <td>No</td>\n",
              "      <td>1290516</td>\n",
              "      <td>0</td>\n",
              "    </tr>\n",
              "    <tr>\n",
              "      <th>190135</th>\n",
              "      <td>03/19/2015</td>\n",
              "      <td>Consumer Loan</td>\n",
              "      <td>Vehicle loan</td>\n",
              "      <td>Managing the loan or lease</td>\n",
              "      <td>NaN</td>\n",
              "      <td>Due to inconsistencies in the amount owed that...</td>\n",
              "      <td>NaN</td>\n",
              "      <td>M&amp;T Bank Corporation</td>\n",
              "      <td>VA</td>\n",
              "      <td>221XX</td>\n",
              "      <td>Servicemember</td>\n",
              "      <td>Consent provided</td>\n",
              "      <td>Web</td>\n",
              "      <td>03/19/2015</td>\n",
              "      <td>Closed with explanation</td>\n",
              "      <td>Yes</td>\n",
              "      <td>No</td>\n",
              "      <td>1290492</td>\n",
              "      <td>1</td>\n",
              "    </tr>\n",
              "    <tr>\n",
              "      <th>190155</th>\n",
              "      <td>03/19/2015</td>\n",
              "      <td>Mortgage</td>\n",
              "      <td>Conventional fixed mortgage</td>\n",
              "      <td>Loan modification,collection,foreclosure</td>\n",
              "      <td>NaN</td>\n",
              "      <td>In XX/XX/XXXX my wages that I earned at my job...</td>\n",
              "      <td>NaN</td>\n",
              "      <td>Wells Fargo &amp; Company</td>\n",
              "      <td>CA</td>\n",
              "      <td>946XX</td>\n",
              "      <td>NaN</td>\n",
              "      <td>Consent provided</td>\n",
              "      <td>Web</td>\n",
              "      <td>03/19/2015</td>\n",
              "      <td>Closed with explanation</td>\n",
              "      <td>Yes</td>\n",
              "      <td>Yes</td>\n",
              "      <td>1290524</td>\n",
              "      <td>2</td>\n",
              "    </tr>\n",
              "    <tr>\n",
              "      <th>190207</th>\n",
              "      <td>03/19/2015</td>\n",
              "      <td>Mortgage</td>\n",
              "      <td>Conventional fixed mortgage</td>\n",
              "      <td>Loan servicing, payments, escrow account</td>\n",
              "      <td>NaN</td>\n",
              "      <td>I have an open and current mortgage with Chase...</td>\n",
              "      <td>NaN</td>\n",
              "      <td>JPMorgan Chase &amp; Co.</td>\n",
              "      <td>CA</td>\n",
              "      <td>900XX</td>\n",
              "      <td>Older American</td>\n",
              "      <td>Consent provided</td>\n",
              "      <td>Web</td>\n",
              "      <td>03/19/2015</td>\n",
              "      <td>Closed with explanation</td>\n",
              "      <td>Yes</td>\n",
              "      <td>Yes</td>\n",
              "      <td>1290253</td>\n",
              "      <td>2</td>\n",
              "    </tr>\n",
              "    <tr>\n",
              "      <th>190208</th>\n",
              "      <td>03/19/2015</td>\n",
              "      <td>Mortgage</td>\n",
              "      <td>Conventional fixed mortgage</td>\n",
              "      <td>Credit decision / Underwriting</td>\n",
              "      <td>NaN</td>\n",
              "      <td>XXXX was submitted XX/XX/XXXX. At the time I s...</td>\n",
              "      <td>NaN</td>\n",
              "      <td>Rushmore Loan Management Services LLC</td>\n",
              "      <td>CA</td>\n",
              "      <td>956XX</td>\n",
              "      <td>Older American</td>\n",
              "      <td>Consent provided</td>\n",
              "      <td>Web</td>\n",
              "      <td>03/19/2015</td>\n",
              "      <td>Closed with explanation</td>\n",
              "      <td>Yes</td>\n",
              "      <td>Yes</td>\n",
              "      <td>1292137</td>\n",
              "      <td>2</td>\n",
              "    </tr>\n",
              "  </tbody>\n",
              "</table>\n",
              "</div>"
            ],
            "text/plain": [
              "       date_received          product  ... complaint_id category_id\n",
              "190126    03/19/2015  Debt collection  ...      1290516           0\n",
              "190135    03/19/2015    Consumer Loan  ...      1290492           1\n",
              "190155    03/19/2015         Mortgage  ...      1290524           2\n",
              "190207    03/19/2015         Mortgage  ...      1290253           2\n",
              "190208    03/19/2015         Mortgage  ...      1292137           2\n",
              "\n",
              "[5 rows x 19 columns]"
            ]
          },
          "metadata": {
            "tags": []
          },
          "execution_count": 6
        }
      ]
    },
    {
      "cell_type": "code",
      "metadata": {
        "colab": {
          "base_uri": "https://localhost:8080/",
          "height": 203
        },
        "id": "KNRJhz-wcFBj",
        "outputId": "ba1e68ee-5498-4184-e5a5-1fd1bb35f194"
      },
      "source": [
        "category_id_df.head()"
      ],
      "execution_count": 21,
      "outputs": [
        {
          "output_type": "execute_result",
          "data": {
            "text/html": [
              "<div>\n",
              "<style scoped>\n",
              "    .dataframe tbody tr th:only-of-type {\n",
              "        vertical-align: middle;\n",
              "    }\n",
              "\n",
              "    .dataframe tbody tr th {\n",
              "        vertical-align: top;\n",
              "    }\n",
              "\n",
              "    .dataframe thead th {\n",
              "        text-align: right;\n",
              "    }\n",
              "</style>\n",
              "<table border=\"1\" class=\"dataframe\">\n",
              "  <thead>\n",
              "    <tr style=\"text-align: right;\">\n",
              "      <th></th>\n",
              "      <th>product</th>\n",
              "      <th>category_id</th>\n",
              "    </tr>\n",
              "  </thead>\n",
              "  <tbody>\n",
              "    <tr>\n",
              "      <th>190126</th>\n",
              "      <td>Debt collection</td>\n",
              "      <td>0</td>\n",
              "    </tr>\n",
              "    <tr>\n",
              "      <th>190135</th>\n",
              "      <td>Consumer Loan</td>\n",
              "      <td>1</td>\n",
              "    </tr>\n",
              "    <tr>\n",
              "      <th>190155</th>\n",
              "      <td>Mortgage</td>\n",
              "      <td>2</td>\n",
              "    </tr>\n",
              "    <tr>\n",
              "      <th>190263</th>\n",
              "      <td>Credit card or prepaid card</td>\n",
              "      <td>3</td>\n",
              "    </tr>\n",
              "    <tr>\n",
              "      <th>191477</th>\n",
              "      <td>Credit reporting, credit repair services, or o...</td>\n",
              "      <td>4</td>\n",
              "    </tr>\n",
              "  </tbody>\n",
              "</table>\n",
              "</div>"
            ],
            "text/plain": [
              "                                                  product  category_id\n",
              "190126                                    Debt collection            0\n",
              "190135                                      Consumer Loan            1\n",
              "190155                                           Mortgage            2\n",
              "190263                        Credit card or prepaid card            3\n",
              "191477  Credit reporting, credit repair services, or o...            4"
            ]
          },
          "metadata": {
            "tags": []
          },
          "execution_count": 21
        }
      ]
    },
    {
      "cell_type": "code",
      "metadata": {
        "id": "bsAOUmHlWCx_"
      },
      "source": [
        "df = df.head(6000)"
      ],
      "execution_count": 12,
      "outputs": []
    },
    {
      "cell_type": "code",
      "metadata": {
        "colab": {
          "base_uri": "https://localhost:8080/"
        },
        "id": "NWrmkHHxF0Oj",
        "outputId": "2cb51fa8-d5b0-4cac-be8f-a91ccebec420"
      },
      "source": [
        "from sklearn.feature_extraction.text import TfidfVectorizer\r\n",
        "tfidf = TfidfVectorizer(sublinear_tf=True, min_df=5, norm='l2', ngram_range=(1, 2), stop_words='english')\r\n",
        "features = tfidf.fit_transform(df.consumer_complaint_narrative).toarray()\r\n",
        "labels = df.category_id\r\n",
        "features.shape"
      ],
      "execution_count": 13,
      "outputs": [
        {
          "output_type": "execute_result",
          "data": {
            "text/plain": [
              "(6000, 16588)"
            ]
          },
          "metadata": {
            "tags": []
          },
          "execution_count": 13
        }
      ]
    },
    {
      "cell_type": "markdown",
      "metadata": {
        "id": "fde_2UClGOM9"
      },
      "source": [
        "Now, each of the 6000 consumer complaint narratives is represented by 16588 features, representing the tf-idf score for different unigrams and bigrams. We can use sklearn.feature_selection.chi2 to find the terms that are the most correlated with each of the products."
      ]
    },
    {
      "cell_type": "code",
      "metadata": {
        "colab": {
          "base_uri": "https://localhost:8080/"
        },
        "id": "-PWi9wcqGC8Z",
        "outputId": "e5a8393c-fc78-46ff-c4a5-95f9a0734349"
      },
      "source": [
        "from sklearn.feature_selection import chi2\r\n",
        "import numpy as np\r\n",
        "N = 2\r\n",
        "for Product, category_id in sorted(category_to_id.items()):\r\n",
        "  features_chi2 = chi2(features, labels == category_id)\r\n",
        "  indices = np.argsort(features_chi2[0])\r\n",
        "  feature_names = np.array(tfidf.get_feature_names())[indices]\r\n",
        "  unigrams = [v for v in feature_names if len(v.split(' ')) == 1]\r\n",
        "  bigrams = [v for v in feature_names if len(v.split(' ')) == 2]\r\n",
        "  print(\"# '{}':\".format(Product))\r\n",
        "  print(\"  . Most correlated unigrams:\\n. {}\".format('\\n. '.join(unigrams[-N:])))\r\n",
        "  print(\"  . Most correlated bigrams:\\n. {}\".format('\\n. '.join(bigrams[-N:])))"
      ],
      "execution_count": 14,
      "outputs": [
        {
          "output_type": "stream",
          "text": [
            "# 'Bank account or service':\n",
            "  . Most correlated unigrams:\n",
            ". branch\n",
            ". overdraft\n",
            "  . Most correlated bigrams:\n",
            ". checking account\n",
            ". debit card\n",
            "# 'Consumer Loan':\n",
            "  . Most correlated unigrams:\n",
            ". car\n",
            ". vehicle\n",
            "  . Most correlated bigrams:\n",
            ". vehicle xxxx\n",
            ". auto finance\n",
            "# 'Credit card or prepaid card':\n",
            "  . Most correlated unigrams:\n",
            ". express\n",
            ". card\n",
            "  . Most correlated bigrams:\n",
            ". annual fee\n",
            ". credit card\n",
            "# 'Credit reporting, credit repair services, or other personal consumer reports':\n",
            "  . Most correlated unigrams:\n",
            ". experian\n",
            ". equifax\n",
            "  . Most correlated bigrams:\n",
            ". report xxxx\n",
            ". credit report\n",
            "# 'Debt collection':\n",
            "  . Most correlated unigrams:\n",
            ". collection\n",
            ". debt\n",
            "  . Most correlated bigrams:\n",
            ". collect debt\n",
            ". collection agency\n",
            "# 'Money transfers':\n",
            "  . Most correlated unigrams:\n",
            ". paypal\n",
            ". wire\n",
            "  . Most correlated bigrams:\n",
            ". wire transfer\n",
            ". western union\n",
            "# 'Mortgage':\n",
            "  . Most correlated unigrams:\n",
            ". modification\n",
            ". mortgage\n",
            "  . Most correlated bigrams:\n",
            ". mortgage company\n",
            ". loan modification\n",
            "# 'Payday loan, title loan, or personal loan':\n",
            "  . Most correlated unigrams:\n",
            ". castle\n",
            ". payday\n",
            "  . Most correlated bigrams:\n",
            ". received payday\n",
            ". payday loan\n",
            "# 'Prepaid card':\n",
            "  . Most correlated unigrams:\n",
            ". rebate\n",
            ". prepaid\n",
            "  . Most correlated bigrams:\n",
            ". money card\n",
            ". prepaid card\n",
            "# 'Student loan':\n",
            "  . Most correlated unigrams:\n",
            ". student\n",
            ". navient\n",
            "  . Most correlated bigrams:\n",
            ". student loans\n",
            ". student loan\n"
          ],
          "name": "stdout"
        }
      ]
    },
    {
      "cell_type": "markdown",
      "metadata": {
        "id": "UA6tIxwzHjkr"
      },
      "source": [
        "Naive Bayes Classifier"
      ]
    },
    {
      "cell_type": "code",
      "metadata": {
        "colab": {
          "base_uri": "https://localhost:8080/"
        },
        "id": "jkTVdwFMHnQQ",
        "outputId": "923186f8-d639-4d11-8288-847a70c8c862"
      },
      "source": [
        "from sklearn.model_selection import train_test_split\r\n",
        "from sklearn.feature_extraction.text import CountVectorizer\r\n",
        "from sklearn.feature_extraction.text import TfidfTransformer\r\n",
        "from sklearn.naive_bayes import MultinomialNB\r\n",
        "X_train, X_test, y_train, y_test = train_test_split(df['consumer_complaint_narrative'], df['product'], random_state = 0)\r\n",
        "count_vect = CountVectorizer()\r\n",
        "X_train_counts = count_vect.fit_transform(X_train)\r\n",
        "tfidf_transformer = TfidfTransformer()\r\n",
        "X_train_tfidf = tfidf_transformer.fit_transform(X_train_counts)\r\n",
        "clf = MultinomialNB().fit(X_train_tfidf, y_train)\r\n",
        "print(clf.predict(count_vect.transform([\"This company refuses to provide me verification and validation of debt per my right under the FDCPA. I do not believe this debt is mine.\"])))\r\n",
        "print(clf.predict(count_vect.transform([\"I am disputing the inaccurate information the Chex-Systems has on my credit report. I initially submitted a police report on XXXX/XXXX/16 and Chex Systems only deleted the items that I mentioned in the letter and not all the items that were actually listed on the police report. In other words they wanted me to say word for word to them what items were fraudulent. The total disregard of the police report and what accounts that it states that are fraudulent. If they just had paid a little closer attention to the police report I would not been in this position now and they would n't have to research once again. I would like the reported information to be removed : XXXX XXXX XXXX\"])))"
      ],
      "execution_count": 7,
      "outputs": [
        {
          "output_type": "stream",
          "text": [
            "['Debt collection']\n",
            "['Credit reporting, credit repair services, or other personal consumer reports']\n"
          ],
          "name": "stdout"
        }
      ]
    },
    {
      "cell_type": "code",
      "metadata": {
        "colab": {
          "base_uri": "https://localhost:8080/"
        },
        "id": "bcN0fjPCH04v",
        "outputId": "7f5bb174-796f-4248-9174-6d4f6c8c91d0"
      },
      "source": [
        "from sklearn.linear_model import LogisticRegression\r\n",
        "from sklearn.ensemble import RandomForestClassifier\r\n",
        "from sklearn.svm import LinearSVC\r\n",
        "from sklearn.model_selection import cross_val_score\r\n",
        "models = [\r\n",
        "    RandomForestClassifier(n_estimators=200, max_depth=3, random_state=0),\r\n",
        "    LinearSVC(),\r\n",
        "    MultinomialNB(),\r\n",
        "    LogisticRegression(random_state=0),\r\n",
        "]\r\n",
        "CV = 5\r\n",
        "cv_df = pd.DataFrame(index=range(CV * len(models)))\r\n",
        "entries = []\r\n",
        "for model in models:\r\n",
        "  model_name = model.__class__.__name__\r\n",
        "  accuracies = cross_val_score(model, features, labels, scoring='accuracy', cv=CV)\r\n",
        "  for fold_idx, accuracy in enumerate(accuracies):\r\n",
        "    entries.append((model_name, fold_idx, accuracy))\r\n",
        "cv_df = pd.DataFrame(entries, columns=['model_name', 'fold_idx', 'accuracy'])"
      ],
      "execution_count": 15,
      "outputs": [
        {
          "output_type": "stream",
          "text": [
            "/usr/local/lib/python3.7/dist-packages/sklearn/linear_model/_logistic.py:940: ConvergenceWarning: lbfgs failed to converge (status=1):\n",
            "STOP: TOTAL NO. of ITERATIONS REACHED LIMIT.\n",
            "\n",
            "Increase the number of iterations (max_iter) or scale the data as shown in:\n",
            "    https://scikit-learn.org/stable/modules/preprocessing.html\n",
            "Please also refer to the documentation for alternative solver options:\n",
            "    https://scikit-learn.org/stable/modules/linear_model.html#logistic-regression\n",
            "  extra_warning_msg=_LOGISTIC_SOLVER_CONVERGENCE_MSG)\n",
            "/usr/local/lib/python3.7/dist-packages/sklearn/linear_model/_logistic.py:940: ConvergenceWarning: lbfgs failed to converge (status=1):\n",
            "STOP: TOTAL NO. of ITERATIONS REACHED LIMIT.\n",
            "\n",
            "Increase the number of iterations (max_iter) or scale the data as shown in:\n",
            "    https://scikit-learn.org/stable/modules/preprocessing.html\n",
            "Please also refer to the documentation for alternative solver options:\n",
            "    https://scikit-learn.org/stable/modules/linear_model.html#logistic-regression\n",
            "  extra_warning_msg=_LOGISTIC_SOLVER_CONVERGENCE_MSG)\n"
          ],
          "name": "stderr"
        }
      ]
    },
    {
      "cell_type": "code",
      "metadata": {
        "colab": {
          "base_uri": "https://localhost:8080/"
        },
        "id": "QEs_HaX_IP5V",
        "outputId": "e0219378-d4a3-4d29-9a1a-c0b49e484032"
      },
      "source": [
        "cv_df.groupby('model_name').accuracy.mean()"
      ],
      "execution_count": 16,
      "outputs": [
        {
          "output_type": "execute_result",
          "data": {
            "text/plain": [
              "model_name\n",
              "LinearSVC                 0.828167\n",
              "LogisticRegression        0.802500\n",
              "MultinomialNB             0.661833\n",
              "RandomForestClassifier    0.448833\n",
              "Name: accuracy, dtype: float64"
            ]
          },
          "metadata": {
            "tags": []
          },
          "execution_count": 16
        }
      ]
    },
    {
      "cell_type": "markdown",
      "metadata": {
        "id": "hlpd9lRzIYE9"
      },
      "source": [
        "Not surprisingly, SVM does best at multi-class classification with accuracy at 0.82"
      ]
    },
    {
      "cell_type": "markdown",
      "metadata": {
        "id": "ysLoUomnIxVF"
      },
      "source": [
        "Now, let us look at the misclassifications"
      ]
    },
    {
      "cell_type": "code",
      "metadata": {
        "colab": {
          "base_uri": "https://localhost:8080/",
          "height": 1000
        },
        "id": "YMLWN3AdJCkk",
        "outputId": "a1452e5e-0756-4b7a-ea96-cf88c782fb40"
      },
      "source": [
        "from IPython.display import display\r\n",
        "for predicted in category_id_df.category_id:\r\n",
        "  for actual in category_id_df.category_id:\r\n",
        "    if predicted != actual and conf_mat[actual, predicted] >= 10:\r\n",
        "      print(\"'{}' predicted as '{}' : {} examples.\".format(id_to_category[actual], id_to_category[predicted], conf_mat[actual, predicted]))\r\n",
        "      display(df.loc[indices_test[(y_test == actual) & (y_pred == predicted)]][['product', 'consumer_complaint_narrative']])\r\n",
        "      print('')"
      ],
      "execution_count": 25,
      "outputs": [
        {
          "output_type": "stream",
          "text": [
            "'Consumer Loan' predicted as 'Debt collection' : 20 examples.\n"
          ],
          "name": "stdout"
        },
        {
          "output_type": "display_data",
          "data": {
            "text/html": [
              "<div>\n",
              "<style scoped>\n",
              "    .dataframe tbody tr th:only-of-type {\n",
              "        vertical-align: middle;\n",
              "    }\n",
              "\n",
              "    .dataframe tbody tr th {\n",
              "        vertical-align: top;\n",
              "    }\n",
              "\n",
              "    .dataframe thead th {\n",
              "        text-align: right;\n",
              "    }\n",
              "</style>\n",
              "<table border=\"1\" class=\"dataframe\">\n",
              "  <thead>\n",
              "    <tr style=\"text-align: right;\">\n",
              "      <th></th>\n",
              "      <th>product</th>\n",
              "      <th>consumer_complaint_narrative</th>\n",
              "    </tr>\n",
              "  </thead>\n",
              "  <tbody>\n",
              "    <tr>\n",
              "      <th>203591</th>\n",
              "      <td>Consumer Loan</td>\n",
              "      <td>I had a car loan with Lobel Financial and beca...</td>\n",
              "    </tr>\n",
              "    <tr>\n",
              "      <th>217275</th>\n",
              "      <td>Consumer Loan</td>\n",
              "      <td>One Main financial will not stop calling me at...</td>\n",
              "    </tr>\n",
              "    <tr>\n",
              "      <th>214362</th>\n",
              "      <td>Consumer Loan</td>\n",
              "      <td>My complaint is about telephone calls to me fr...</td>\n",
              "    </tr>\n",
              "    <tr>\n",
              "      <th>217535</th>\n",
              "      <td>Consumer Loan</td>\n",
              "      <td>I took out a loan of {$3100.00} from Loan Me. ...</td>\n",
              "    </tr>\n",
              "    <tr>\n",
              "      <th>212964</th>\n",
              "      <td>Consumer Loan</td>\n",
              "      <td>I have informed the Company I am not allowed t...</td>\n",
              "    </tr>\n",
              "    <tr>\n",
              "      <th>209810</th>\n",
              "      <td>Consumer Loan</td>\n",
              "      <td>More than a decade ago, I began receiving debt...</td>\n",
              "    </tr>\n",
              "    <tr>\n",
              "      <th>215464</th>\n",
              "      <td>Consumer Loan</td>\n",
              "      <td>First off the loan agent, looks up my family m...</td>\n",
              "    </tr>\n",
              "    <tr>\n",
              "      <th>201989</th>\n",
              "      <td>Consumer Loan</td>\n",
              "      <td>In XX/XX/XXXX I was mailed a check and paperwo...</td>\n",
              "    </tr>\n",
              "    <tr>\n",
              "      <th>212061</th>\n",
              "      <td>Consumer Loan</td>\n",
              "      <td>I have XXXX cases with you on the same conflic...</td>\n",
              "    </tr>\n",
              "    <tr>\n",
              "      <th>218204</th>\n",
              "      <td>Consumer Loan</td>\n",
              "      <td>I tried several times to change my loan 's dir...</td>\n",
              "    </tr>\n",
              "    <tr>\n",
              "      <th>204205</th>\n",
              "      <td>Consumer Loan</td>\n",
              "      <td>Received a loan from XXXX XXXX and the harrasm...</td>\n",
              "    </tr>\n",
              "    <tr>\n",
              "      <th>208563</th>\n",
              "      <td>Consumer Loan</td>\n",
              "      <td>AutoCredit and MG Finance refuse to remove pai...</td>\n",
              "    </tr>\n",
              "    <tr>\n",
              "      <th>212904</th>\n",
              "      <td>Consumer Loan</td>\n",
              "      <td>I ended up in a financial bind as a single mom...</td>\n",
              "    </tr>\n",
              "    <tr>\n",
              "      <th>206966</th>\n",
              "      <td>Consumer Loan</td>\n",
              "      <td>Received Stop Release due to garnishment and c...</td>\n",
              "    </tr>\n",
              "    <tr>\n",
              "      <th>210615</th>\n",
              "      <td>Consumer Loan</td>\n",
              "      <td>Took out a loan with western sky for {$2500.00...</td>\n",
              "    </tr>\n",
              "    <tr>\n",
              "      <th>214826</th>\n",
              "      <td>Consumer Loan</td>\n",
              "      <td>i was incarcerated when this account was open ...</td>\n",
              "    </tr>\n",
              "    <tr>\n",
              "      <th>218875</th>\n",
              "      <td>Consumer Loan</td>\n",
              "      <td>The loan company, Flagship Credit Acceptance, ...</td>\n",
              "    </tr>\n",
              "    <tr>\n",
              "      <th>203788</th>\n",
              "      <td>Consumer Loan</td>\n",
              "      <td>since XXXX/XXXX/15 I have received XXXX phone ...</td>\n",
              "    </tr>\n",
              "    <tr>\n",
              "      <th>209375</th>\n",
              "      <td>Consumer Loan</td>\n",
              "      <td>Loan Me continues to harass me via phone befor...</td>\n",
              "    </tr>\n",
              "    <tr>\n",
              "      <th>219416</th>\n",
              "      <td>Consumer Loan</td>\n",
              "      <td>The loan company ( Security Finance Service ) ...</td>\n",
              "    </tr>\n",
              "  </tbody>\n",
              "</table>\n",
              "</div>"
            ],
            "text/plain": [
              "              product                       consumer_complaint_narrative\n",
              "203591  Consumer Loan  I had a car loan with Lobel Financial and beca...\n",
              "217275  Consumer Loan  One Main financial will not stop calling me at...\n",
              "214362  Consumer Loan  My complaint is about telephone calls to me fr...\n",
              "217535  Consumer Loan  I took out a loan of {$3100.00} from Loan Me. ...\n",
              "212964  Consumer Loan  I have informed the Company I am not allowed t...\n",
              "209810  Consumer Loan  More than a decade ago, I began receiving debt...\n",
              "215464  Consumer Loan  First off the loan agent, looks up my family m...\n",
              "201989  Consumer Loan  In XX/XX/XXXX I was mailed a check and paperwo...\n",
              "212061  Consumer Loan  I have XXXX cases with you on the same conflic...\n",
              "218204  Consumer Loan  I tried several times to change my loan 's dir...\n",
              "204205  Consumer Loan  Received a loan from XXXX XXXX and the harrasm...\n",
              "208563  Consumer Loan  AutoCredit and MG Finance refuse to remove pai...\n",
              "212904  Consumer Loan  I ended up in a financial bind as a single mom...\n",
              "206966  Consumer Loan  Received Stop Release due to garnishment and c...\n",
              "210615  Consumer Loan  Took out a loan with western sky for {$2500.00...\n",
              "214826  Consumer Loan  i was incarcerated when this account was open ...\n",
              "218875  Consumer Loan  The loan company, Flagship Credit Acceptance, ...\n",
              "203788  Consumer Loan  since XXXX/XXXX/15 I have received XXXX phone ...\n",
              "209375  Consumer Loan  Loan Me continues to harass me via phone befor...\n",
              "219416  Consumer Loan  The loan company ( Security Finance Service ) ..."
            ]
          },
          "metadata": {
            "tags": []
          }
        },
        {
          "output_type": "stream",
          "text": [
            "\n",
            "'Credit card or prepaid card' predicted as 'Debt collection' : 25 examples.\n"
          ],
          "name": "stdout"
        },
        {
          "output_type": "display_data",
          "data": {
            "text/html": [
              "<div>\n",
              "<style scoped>\n",
              "    .dataframe tbody tr th:only-of-type {\n",
              "        vertical-align: middle;\n",
              "    }\n",
              "\n",
              "    .dataframe tbody tr th {\n",
              "        vertical-align: top;\n",
              "    }\n",
              "\n",
              "    .dataframe thead th {\n",
              "        text-align: right;\n",
              "    }\n",
              "</style>\n",
              "<table border=\"1\" class=\"dataframe\">\n",
              "  <thead>\n",
              "    <tr style=\"text-align: right;\">\n",
              "      <th></th>\n",
              "      <th>product</th>\n",
              "      <th>consumer_complaint_narrative</th>\n",
              "    </tr>\n",
              "  </thead>\n",
              "  <tbody>\n",
              "    <tr>\n",
              "      <th>220987</th>\n",
              "      <td>Credit card or prepaid card</td>\n",
              "      <td>An auto-dialer operated by or on behalf of Cap...</td>\n",
              "    </tr>\n",
              "    <tr>\n",
              "      <th>213034</th>\n",
              "      <td>Credit card or prepaid card</td>\n",
              "      <td>USAA did not follow procedures when they proce...</td>\n",
              "    </tr>\n",
              "    <tr>\n",
              "      <th>203553</th>\n",
              "      <td>Credit card or prepaid card</td>\n",
              "      <td>Ordered a First Progress Credit and submitted ...</td>\n",
              "    </tr>\n",
              "    <tr>\n",
              "      <th>213882</th>\n",
              "      <td>Credit card or prepaid card</td>\n",
              "      <td>While serving in the United States XXXX, I rec...</td>\n",
              "    </tr>\n",
              "    <tr>\n",
              "      <th>217400</th>\n",
              "      <td>Credit card or prepaid card</td>\n",
              "      <td>I notified Tjmaxx months ago that I had retain...</td>\n",
              "    </tr>\n",
              "    <tr>\n",
              "      <th>214742</th>\n",
              "      <td>Credit card or prepaid card</td>\n",
              "      <td>I received a collection letter from First Nati...</td>\n",
              "    </tr>\n",
              "    <tr>\n",
              "      <th>210959</th>\n",
              "      <td>Credit card or prepaid card</td>\n",
              "      <td>I have been contacted by XXXX LLC via letter. ...</td>\n",
              "    </tr>\n",
              "    <tr>\n",
              "      <th>200811</th>\n",
              "      <td>Credit card or prepaid card</td>\n",
              "      <td>OneMain Financial called my place of business ...</td>\n",
              "    </tr>\n",
              "    <tr>\n",
              "      <th>205969</th>\n",
              "      <td>Credit card or prepaid card</td>\n",
              "      <td>I keep getting a robo call ( XXXX ) threatenin...</td>\n",
              "    </tr>\n",
              "    <tr>\n",
              "      <th>208380</th>\n",
              "      <td>Credit card or prepaid card</td>\n",
              "      <td>My credit card company ( Citi ) contacted a pe...</td>\n",
              "    </tr>\n",
              "    <tr>\n",
              "      <th>217475</th>\n",
              "      <td>Credit card or prepaid card</td>\n",
              "      <td>On XXXX XXXX 2015 a representative from MICHAE...</td>\n",
              "    </tr>\n",
              "    <tr>\n",
              "      <th>202829</th>\n",
              "      <td>Credit card or prepaid card</td>\n",
              "      <td>Eleven years ago I lost my job then had a prob...</td>\n",
              "    </tr>\n",
              "    <tr>\n",
              "      <th>219491</th>\n",
              "      <td>Credit card or prepaid card</td>\n",
              "      <td>FIA Card Services ( FIA ), issued me personall...</td>\n",
              "    </tr>\n",
              "    <tr>\n",
              "      <th>212469</th>\n",
              "      <td>Credit card or prepaid card</td>\n",
              "      <td>After years and years and numerous attempts of...</td>\n",
              "    </tr>\n",
              "    <tr>\n",
              "      <th>211777</th>\n",
              "      <td>Credit card or prepaid card</td>\n",
              "      <td>I received phone calls on my mobile from citi ...</td>\n",
              "    </tr>\n",
              "    <tr>\n",
              "      <th>213739</th>\n",
              "      <td>Credit card or prepaid card</td>\n",
              "      <td>On XXXX XXXX, 2015, I learned that my credit c...</td>\n",
              "    </tr>\n",
              "    <tr>\n",
              "      <th>210129</th>\n",
              "      <td>Credit card or prepaid card</td>\n",
              "      <td>Discover is reporting to my XXXX report that i...</td>\n",
              "    </tr>\n",
              "    <tr>\n",
              "      <th>215192</th>\n",
              "      <td>Credit card or prepaid card</td>\n",
              "      <td>I purchased a pair of eyeglasses fro XXXX XXXX...</td>\n",
              "    </tr>\n",
              "    <tr>\n",
              "      <th>203144</th>\n",
              "      <td>Credit card or prepaid card</td>\n",
              "      <td>I have reached out to this company on numerous...</td>\n",
              "    </tr>\n",
              "    <tr>\n",
              "      <th>200182</th>\n",
              "      <td>Credit card or prepaid card</td>\n",
              "      <td>I contracted with XXXX XXXX in XXXX of 2013 to...</td>\n",
              "    </tr>\n",
              "    <tr>\n",
              "      <th>211534</th>\n",
              "      <td>Credit card or prepaid card</td>\n",
              "      <td>I am a permanently XXXX XXXX year old man. XXX...</td>\n",
              "    </tr>\n",
              "    <tr>\n",
              "      <th>213414</th>\n",
              "      <td>Credit card or prepaid card</td>\n",
              "      <td>The original creditor, Wells Fargo Bank, sold ...</td>\n",
              "    </tr>\n",
              "    <tr>\n",
              "      <th>210880</th>\n",
              "      <td>Credit card or prepaid card</td>\n",
              "      <td>When I found out about Servicemembers Civil Re...</td>\n",
              "    </tr>\n",
              "    <tr>\n",
              "      <th>217068</th>\n",
              "      <td>Credit card or prepaid card</td>\n",
              "      <td>Had to get some dental work done so the dentis...</td>\n",
              "    </tr>\n",
              "    <tr>\n",
              "      <th>209642</th>\n",
              "      <td>Credit card or prepaid card</td>\n",
              "      <td>I was called on my cell phone by a man name XX...</td>\n",
              "    </tr>\n",
              "  </tbody>\n",
              "</table>\n",
              "</div>"
            ],
            "text/plain": [
              "                            product                       consumer_complaint_narrative\n",
              "220987  Credit card or prepaid card  An auto-dialer operated by or on behalf of Cap...\n",
              "213034  Credit card or prepaid card  USAA did not follow procedures when they proce...\n",
              "203553  Credit card or prepaid card  Ordered a First Progress Credit and submitted ...\n",
              "213882  Credit card or prepaid card  While serving in the United States XXXX, I rec...\n",
              "217400  Credit card or prepaid card  I notified Tjmaxx months ago that I had retain...\n",
              "214742  Credit card or prepaid card  I received a collection letter from First Nati...\n",
              "210959  Credit card or prepaid card  I have been contacted by XXXX LLC via letter. ...\n",
              "200811  Credit card or prepaid card  OneMain Financial called my place of business ...\n",
              "205969  Credit card or prepaid card  I keep getting a robo call ( XXXX ) threatenin...\n",
              "208380  Credit card or prepaid card  My credit card company ( Citi ) contacted a pe...\n",
              "217475  Credit card or prepaid card  On XXXX XXXX 2015 a representative from MICHAE...\n",
              "202829  Credit card or prepaid card  Eleven years ago I lost my job then had a prob...\n",
              "219491  Credit card or prepaid card  FIA Card Services ( FIA ), issued me personall...\n",
              "212469  Credit card or prepaid card  After years and years and numerous attempts of...\n",
              "211777  Credit card or prepaid card  I received phone calls on my mobile from citi ...\n",
              "213739  Credit card or prepaid card  On XXXX XXXX, 2015, I learned that my credit c...\n",
              "210129  Credit card or prepaid card  Discover is reporting to my XXXX report that i...\n",
              "215192  Credit card or prepaid card  I purchased a pair of eyeglasses fro XXXX XXXX...\n",
              "203144  Credit card or prepaid card  I have reached out to this company on numerous...\n",
              "200182  Credit card or prepaid card  I contracted with XXXX XXXX in XXXX of 2013 to...\n",
              "211534  Credit card or prepaid card  I am a permanently XXXX XXXX year old man. XXX...\n",
              "213414  Credit card or prepaid card  The original creditor, Wells Fargo Bank, sold ...\n",
              "210880  Credit card or prepaid card  When I found out about Servicemembers Civil Re...\n",
              "217068  Credit card or prepaid card  Had to get some dental work done so the dentis...\n",
              "209642  Credit card or prepaid card  I was called on my cell phone by a man name XX..."
            ]
          },
          "metadata": {
            "tags": []
          }
        },
        {
          "output_type": "stream",
          "text": [
            "\n",
            "'Credit reporting, credit repair services, or other personal consumer reports' predicted as 'Debt collection' : 36 examples.\n"
          ],
          "name": "stdout"
        },
        {
          "output_type": "display_data",
          "data": {
            "text/html": [
              "<div>\n",
              "<style scoped>\n",
              "    .dataframe tbody tr th:only-of-type {\n",
              "        vertical-align: middle;\n",
              "    }\n",
              "\n",
              "    .dataframe tbody tr th {\n",
              "        vertical-align: top;\n",
              "    }\n",
              "\n",
              "    .dataframe thead th {\n",
              "        text-align: right;\n",
              "    }\n",
              "</style>\n",
              "<table border=\"1\" class=\"dataframe\">\n",
              "  <thead>\n",
              "    <tr style=\"text-align: right;\">\n",
              "      <th></th>\n",
              "      <th>product</th>\n",
              "      <th>consumer_complaint_narrative</th>\n",
              "    </tr>\n",
              "  </thead>\n",
              "  <tbody>\n",
              "    <tr>\n",
              "      <th>199495</th>\n",
              "      <td>Credit reporting, credit repair services, or o...</td>\n",
              "      <td>I have recently pulled out my credit profile f...</td>\n",
              "    </tr>\n",
              "    <tr>\n",
              "      <th>219046</th>\n",
              "      <td>Credit reporting, credit repair services, or o...</td>\n",
              "      <td>I have sent sign receipt requested to a collec...</td>\n",
              "    </tr>\n",
              "    <tr>\n",
              "      <th>209676</th>\n",
              "      <td>Credit reporting, credit repair services, or o...</td>\n",
              "      <td>ive asked for a signed contract they will not ...</td>\n",
              "    </tr>\n",
              "    <tr>\n",
              "      <th>207363</th>\n",
              "      <td>Credit reporting, credit repair services, or o...</td>\n",
              "      <td>For the past 2 years, I have disputed XXXX acc...</td>\n",
              "    </tr>\n",
              "    <tr>\n",
              "      <th>209332</th>\n",
              "      <td>Credit reporting, credit repair services, or o...</td>\n",
              "      <td>I 'm trying to see my credit reports \\n</td>\n",
              "    </tr>\n",
              "    <tr>\n",
              "      <th>210276</th>\n",
              "      <td>Credit reporting, credit repair services, or o...</td>\n",
              "      <td>XXXX account # XXXX I have insurance, I paid m...</td>\n",
              "    </tr>\n",
              "    <tr>\n",
              "      <th>215259</th>\n",
              "      <td>Credit reporting, credit repair services, or o...</td>\n",
              "      <td>XXXX and XXXX XXXX XXXX are on my credit repor...</td>\n",
              "    </tr>\n",
              "    <tr>\n",
              "      <th>210039</th>\n",
              "      <td>Credit reporting, credit repair services, or o...</td>\n",
              "      <td>I have a debt on my credit report with XXXX Mo...</td>\n",
              "    </tr>\n",
              "    <tr>\n",
              "      <th>197095</th>\n",
              "      <td>Credit reporting, credit repair services, or o...</td>\n",
              "      <td>I paid off my debt 100 % almost a year ago, ye...</td>\n",
              "    </tr>\n",
              "    <tr>\n",
              "      <th>216542</th>\n",
              "      <td>Credit reporting, credit repair services, or o...</td>\n",
              "      <td>XXXX has filed a \" Collections Account '' on m...</td>\n",
              "    </tr>\n",
              "    <tr>\n",
              "      <th>211589</th>\n",
              "      <td>Credit reporting, credit repair services, or o...</td>\n",
              "      <td>On XX/XX/XXXX myself and XXXX other roommates ...</td>\n",
              "    </tr>\n",
              "    <tr>\n",
              "      <th>207247</th>\n",
              "      <td>Credit reporting, credit repair services, or o...</td>\n",
              "      <td>You recently verified that XXXX items belong t...</td>\n",
              "    </tr>\n",
              "    <tr>\n",
              "      <th>212534</th>\n",
              "      <td>Credit reporting, credit repair services, or o...</td>\n",
              "      <td>My divorce decree indicate that my ex wife to ...</td>\n",
              "    </tr>\n",
              "    <tr>\n",
              "      <th>202876</th>\n",
              "      <td>Credit reporting, credit repair services, or o...</td>\n",
              "      <td>refused to send the report by email. the only ...</td>\n",
              "    </tr>\n",
              "    <tr>\n",
              "      <th>215146</th>\n",
              "      <td>Credit reporting, credit repair services, or o...</td>\n",
              "      <td>My complaint with XXXX XXXX is that they never...</td>\n",
              "    </tr>\n",
              "    <tr>\n",
              "      <th>220181</th>\n",
              "      <td>Credit reporting, credit repair services, or o...</td>\n",
              "      <td>On XXXX XXXX, XXXX I received a XXXX from \" XX...</td>\n",
              "    </tr>\n",
              "    <tr>\n",
              "      <th>214142</th>\n",
              "      <td>Credit reporting, credit repair services, or o...</td>\n",
              "      <td>Filed BK in XX/XX/XXXX at this time the law pr...</td>\n",
              "    </tr>\n",
              "    <tr>\n",
              "      <th>212241</th>\n",
              "      <td>Credit reporting, credit repair services, or o...</td>\n",
              "      <td>I think I disputed account but not 100 % sure....</td>\n",
              "    </tr>\n",
              "    <tr>\n",
              "      <th>212975</th>\n",
              "      <td>Credit reporting, credit repair services, or o...</td>\n",
              "      <td>I disputed information, no valid debt confirma...</td>\n",
              "    </tr>\n",
              "    <tr>\n",
              "      <th>220958</th>\n",
              "      <td>Credit reporting, credit repair services, or o...</td>\n",
              "      <td>This was a case of identity fraud. Someone was...</td>\n",
              "    </tr>\n",
              "    <tr>\n",
              "      <th>215109</th>\n",
              "      <td>Credit reporting, credit repair services, or o...</td>\n",
              "      <td>LEXISNEXIS FAIL TO FURNISH CREDIT PROFILE, AND...</td>\n",
              "    </tr>\n",
              "    <tr>\n",
              "      <th>200892</th>\n",
              "      <td>Credit reporting, credit repair services, or o...</td>\n",
              "      <td>My credit report reflects an account in collec...</td>\n",
              "    </tr>\n",
              "    <tr>\n",
              "      <th>209362</th>\n",
              "      <td>Credit reporting, credit repair services, or o...</td>\n",
              "      <td>The carpeting in our apartment was defective a...</td>\n",
              "    </tr>\n",
              "    <tr>\n",
              "      <th>217231</th>\n",
              "      <td>Credit reporting, credit repair services, or o...</td>\n",
              "      <td>On XXXX XXXX, 2014 a XXXX account was turned o...</td>\n",
              "    </tr>\n",
              "    <tr>\n",
              "      <th>210365</th>\n",
              "      <td>Credit reporting, credit repair services, or o...</td>\n",
              "      <td>XXXX account # XXXX I have insurance, I paid m...</td>\n",
              "    </tr>\n",
              "    <tr>\n",
              "      <th>212421</th>\n",
              "      <td>Credit reporting, credit repair services, or o...</td>\n",
              "      <td>I contacted XXXX XXXX. about opening and accou...</td>\n",
              "    </tr>\n",
              "    <tr>\n",
              "      <th>213707</th>\n",
              "      <td>Credit reporting, credit repair services, or o...</td>\n",
              "      <td>I was being charge with fees from an Appt comp...</td>\n",
              "    </tr>\n",
              "    <tr>\n",
              "      <th>220890</th>\n",
              "      <td>Credit reporting, credit repair services, or o...</td>\n",
              "      <td>I was being charge with fees from an Appt comp...</td>\n",
              "    </tr>\n",
              "    <tr>\n",
              "      <th>216325</th>\n",
              "      <td>Credit reporting, credit repair services, or o...</td>\n",
              "      <td>A collection agency XXXX XXXX is reporting fal...</td>\n",
              "    </tr>\n",
              "    <tr>\n",
              "      <th>211794</th>\n",
              "      <td>Credit reporting, credit repair services, or o...</td>\n",
              "      <td>I contacted CFPB to dispute a negative mark XX...</td>\n",
              "    </tr>\n",
              "    <tr>\n",
              "      <th>213526</th>\n",
              "      <td>Credit reporting, credit repair services, or o...</td>\n",
              "      <td>Dear Madam/Sir : i will kindly appreciate very...</td>\n",
              "    </tr>\n",
              "    <tr>\n",
              "      <th>213011</th>\n",
              "      <td>Credit reporting, credit repair services, or o...</td>\n",
              "      <td>I 'm a victim of identy teff someone try to op...</td>\n",
              "    </tr>\n",
              "    <tr>\n",
              "      <th>214124</th>\n",
              "      <td>Credit reporting, credit repair services, or o...</td>\n",
              "      <td>I filed a chapter-XXXX in XX/XX/XXXX and it wa...</td>\n",
              "    </tr>\n",
              "    <tr>\n",
              "      <th>218658</th>\n",
              "      <td>Credit reporting, credit repair services, or o...</td>\n",
              "      <td>I went to try and get a apartment for the XXXX...</td>\n",
              "    </tr>\n",
              "    <tr>\n",
              "      <th>219576</th>\n",
              "      <td>Credit reporting, credit repair services, or o...</td>\n",
              "      <td>I have disputed this information with XXXX/XXX...</td>\n",
              "    </tr>\n",
              "    <tr>\n",
              "      <th>216063</th>\n",
              "      <td>Credit reporting, credit repair services, or o...</td>\n",
              "      <td>XXXX XXXX XXXX XXXX, XXXX - Address : XXXX XXX...</td>\n",
              "    </tr>\n",
              "  </tbody>\n",
              "</table>\n",
              "</div>"
            ],
            "text/plain": [
              "                                                  product                       consumer_complaint_narrative\n",
              "199495  Credit reporting, credit repair services, or o...  I have recently pulled out my credit profile f...\n",
              "219046  Credit reporting, credit repair services, or o...  I have sent sign receipt requested to a collec...\n",
              "209676  Credit reporting, credit repair services, or o...  ive asked for a signed contract they will not ...\n",
              "207363  Credit reporting, credit repair services, or o...  For the past 2 years, I have disputed XXXX acc...\n",
              "209332  Credit reporting, credit repair services, or o...            I 'm trying to see my credit reports \\n\n",
              "210276  Credit reporting, credit repair services, or o...  XXXX account # XXXX I have insurance, I paid m...\n",
              "215259  Credit reporting, credit repair services, or o...  XXXX and XXXX XXXX XXXX are on my credit repor...\n",
              "210039  Credit reporting, credit repair services, or o...  I have a debt on my credit report with XXXX Mo...\n",
              "197095  Credit reporting, credit repair services, or o...  I paid off my debt 100 % almost a year ago, ye...\n",
              "216542  Credit reporting, credit repair services, or o...  XXXX has filed a \" Collections Account '' on m...\n",
              "211589  Credit reporting, credit repair services, or o...  On XX/XX/XXXX myself and XXXX other roommates ...\n",
              "207247  Credit reporting, credit repair services, or o...  You recently verified that XXXX items belong t...\n",
              "212534  Credit reporting, credit repair services, or o...  My divorce decree indicate that my ex wife to ...\n",
              "202876  Credit reporting, credit repair services, or o...  refused to send the report by email. the only ...\n",
              "215146  Credit reporting, credit repair services, or o...  My complaint with XXXX XXXX is that they never...\n",
              "220181  Credit reporting, credit repair services, or o...  On XXXX XXXX, XXXX I received a XXXX from \" XX...\n",
              "214142  Credit reporting, credit repair services, or o...  Filed BK in XX/XX/XXXX at this time the law pr...\n",
              "212241  Credit reporting, credit repair services, or o...  I think I disputed account but not 100 % sure....\n",
              "212975  Credit reporting, credit repair services, or o...  I disputed information, no valid debt confirma...\n",
              "220958  Credit reporting, credit repair services, or o...  This was a case of identity fraud. Someone was...\n",
              "215109  Credit reporting, credit repair services, or o...  LEXISNEXIS FAIL TO FURNISH CREDIT PROFILE, AND...\n",
              "200892  Credit reporting, credit repair services, or o...  My credit report reflects an account in collec...\n",
              "209362  Credit reporting, credit repair services, or o...  The carpeting in our apartment was defective a...\n",
              "217231  Credit reporting, credit repair services, or o...  On XXXX XXXX, 2014 a XXXX account was turned o...\n",
              "210365  Credit reporting, credit repair services, or o...  XXXX account # XXXX I have insurance, I paid m...\n",
              "212421  Credit reporting, credit repair services, or o...  I contacted XXXX XXXX. about opening and accou...\n",
              "213707  Credit reporting, credit repair services, or o...  I was being charge with fees from an Appt comp...\n",
              "220890  Credit reporting, credit repair services, or o...  I was being charge with fees from an Appt comp...\n",
              "216325  Credit reporting, credit repair services, or o...  A collection agency XXXX XXXX is reporting fal...\n",
              "211794  Credit reporting, credit repair services, or o...  I contacted CFPB to dispute a negative mark XX...\n",
              "213526  Credit reporting, credit repair services, or o...  Dear Madam/Sir : i will kindly appreciate very...\n",
              "213011  Credit reporting, credit repair services, or o...  I 'm a victim of identy teff someone try to op...\n",
              "214124  Credit reporting, credit repair services, or o...  I filed a chapter-XXXX in XX/XX/XXXX and it wa...\n",
              "218658  Credit reporting, credit repair services, or o...  I went to try and get a apartment for the XXXX...\n",
              "219576  Credit reporting, credit repair services, or o...  I have disputed this information with XXXX/XXX...\n",
              "216063  Credit reporting, credit repair services, or o...  XXXX XXXX XXXX XXXX, XXXX - Address : XXXX XXX..."
            ]
          },
          "metadata": {
            "tags": []
          }
        },
        {
          "output_type": "stream",
          "text": [
            "\n",
            "'Payday loan, title loan, or personal loan' predicted as 'Debt collection' : 14 examples.\n"
          ],
          "name": "stdout"
        },
        {
          "output_type": "display_data",
          "data": {
            "text/html": [
              "<div>\n",
              "<style scoped>\n",
              "    .dataframe tbody tr th:only-of-type {\n",
              "        vertical-align: middle;\n",
              "    }\n",
              "\n",
              "    .dataframe tbody tr th {\n",
              "        vertical-align: top;\n",
              "    }\n",
              "\n",
              "    .dataframe thead th {\n",
              "        text-align: right;\n",
              "    }\n",
              "</style>\n",
              "<table border=\"1\" class=\"dataframe\">\n",
              "  <thead>\n",
              "    <tr style=\"text-align: right;\">\n",
              "      <th></th>\n",
              "      <th>product</th>\n",
              "      <th>consumer_complaint_narrative</th>\n",
              "    </tr>\n",
              "  </thead>\n",
              "  <tbody>\n",
              "    <tr>\n",
              "      <th>216062</th>\n",
              "      <td>Payday loan, title loan, or personal loan</td>\n",
              "      <td>I have received a call from XXXX XXXX XXXX XXX...</td>\n",
              "    </tr>\n",
              "    <tr>\n",
              "      <th>205760</th>\n",
              "      <td>Payday loan, title loan, or personal loan</td>\n",
              "      <td>Several of the categories above apply : - Frau...</td>\n",
              "    </tr>\n",
              "    <tr>\n",
              "      <th>218321</th>\n",
              "      <td>Payday loan, title loan, or personal loan</td>\n",
              "      <td>I had a loan with Cash Net three years ago. My...</td>\n",
              "    </tr>\n",
              "    <tr>\n",
              "      <th>221003</th>\n",
              "      <td>Payday loan, title loan, or personal loan</td>\n",
              "      <td>I filed a complaint against Ace Cash Express a...</td>\n",
              "    </tr>\n",
              "    <tr>\n",
              "      <th>207432</th>\n",
              "      <td>Payday loan, title loan, or personal loan</td>\n",
              "      <td>I received a payday loan in 2013 ... .circumst...</td>\n",
              "    </tr>\n",
              "    <tr>\n",
              "      <th>213247</th>\n",
              "      <td>Payday loan, title loan, or personal loan</td>\n",
              "      <td>The company Cash Central called me on XXXX/XXX...</td>\n",
              "    </tr>\n",
              "    <tr>\n",
              "      <th>211513</th>\n",
              "      <td>Payday loan, title loan, or personal loan</td>\n",
              "      <td>California Budget Finance. XXXX XXXX XXXX XXXX...</td>\n",
              "    </tr>\n",
              "    <tr>\n",
              "      <th>210172</th>\n",
              "      <td>Payday loan, title loan, or personal loan</td>\n",
              "      <td>I want the creditor Bryant &amp; Bryant to stop co...</td>\n",
              "    </tr>\n",
              "    <tr>\n",
              "      <th>194507</th>\n",
              "      <td>Payday loan, title loan, or personal loan</td>\n",
              "      <td>I have been approached by Concord Resolution (...</td>\n",
              "    </tr>\n",
              "    <tr>\n",
              "      <th>214268</th>\n",
              "      <td>Payday loan, title loan, or personal loan</td>\n",
              "      <td>I received a payday loan over 7 years ago from...</td>\n",
              "    </tr>\n",
              "    <tr>\n",
              "      <th>213765</th>\n",
              "      <td>Payday loan, title loan, or personal loan</td>\n",
              "      <td>Rapid Cash on XXXX XXXX XXXX and XXXX in XXXX,...</td>\n",
              "    </tr>\n",
              "    <tr>\n",
              "      <th>198595</th>\n",
              "      <td>Payday loan, title loan, or personal loan</td>\n",
              "      <td>I hired a company to deal with Cash Express in...</td>\n",
              "    </tr>\n",
              "    <tr>\n",
              "      <th>206977</th>\n",
              "      <td>Payday loan, title loan, or personal loan</td>\n",
              "      <td>I set up a date with the collector from ez mon...</td>\n",
              "    </tr>\n",
              "    <tr>\n",
              "      <th>200123</th>\n",
              "      <td>Payday loan, title loan, or personal loan</td>\n",
              "      <td>I PAID {$99.00} MONEY ORDER ONXXXX. {$98.00} W...</td>\n",
              "    </tr>\n",
              "  </tbody>\n",
              "</table>\n",
              "</div>"
            ],
            "text/plain": [
              "                                          product                       consumer_complaint_narrative\n",
              "216062  Payday loan, title loan, or personal loan  I have received a call from XXXX XXXX XXXX XXX...\n",
              "205760  Payday loan, title loan, or personal loan  Several of the categories above apply : - Frau...\n",
              "218321  Payday loan, title loan, or personal loan  I had a loan with Cash Net three years ago. My...\n",
              "221003  Payday loan, title loan, or personal loan  I filed a complaint against Ace Cash Express a...\n",
              "207432  Payday loan, title loan, or personal loan  I received a payday loan in 2013 ... .circumst...\n",
              "213247  Payday loan, title loan, or personal loan  The company Cash Central called me on XXXX/XXX...\n",
              "211513  Payday loan, title loan, or personal loan  California Budget Finance. XXXX XXXX XXXX XXXX...\n",
              "210172  Payday loan, title loan, or personal loan  I want the creditor Bryant & Bryant to stop co...\n",
              "194507  Payday loan, title loan, or personal loan  I have been approached by Concord Resolution (...\n",
              "214268  Payday loan, title loan, or personal loan  I received a payday loan over 7 years ago from...\n",
              "213765  Payday loan, title loan, or personal loan  Rapid Cash on XXXX XXXX XXXX and XXXX in XXXX,...\n",
              "198595  Payday loan, title loan, or personal loan  I hired a company to deal with Cash Express in...\n",
              "206977  Payday loan, title loan, or personal loan  I set up a date with the collector from ez mon...\n",
              "200123  Payday loan, title loan, or personal loan  I PAID {$99.00} MONEY ORDER ONXXXX. {$98.00} W..."
            ]
          },
          "metadata": {
            "tags": []
          }
        },
        {
          "output_type": "stream",
          "text": [
            "\n",
            "'Debt collection' predicted as 'Mortgage' : 12 examples.\n"
          ],
          "name": "stdout"
        },
        {
          "output_type": "display_data",
          "data": {
            "text/html": [
              "<div>\n",
              "<style scoped>\n",
              "    .dataframe tbody tr th:only-of-type {\n",
              "        vertical-align: middle;\n",
              "    }\n",
              "\n",
              "    .dataframe tbody tr th {\n",
              "        vertical-align: top;\n",
              "    }\n",
              "\n",
              "    .dataframe thead th {\n",
              "        text-align: right;\n",
              "    }\n",
              "</style>\n",
              "<table border=\"1\" class=\"dataframe\">\n",
              "  <thead>\n",
              "    <tr style=\"text-align: right;\">\n",
              "      <th></th>\n",
              "      <th>product</th>\n",
              "      <th>consumer_complaint_narrative</th>\n",
              "    </tr>\n",
              "  </thead>\n",
              "  <tbody>\n",
              "    <tr>\n",
              "      <th>198640</th>\n",
              "      <td>Debt collection</td>\n",
              "      <td>1. XXXX is competent to state the matters set ...</td>\n",
              "    </tr>\n",
              "    <tr>\n",
              "      <th>191294</th>\n",
              "      <td>Debt collection</td>\n",
              "      <td>Lawyers at this law firm ( XXXX ) sent me a le...</td>\n",
              "    </tr>\n",
              "    <tr>\n",
              "      <th>192077</th>\n",
              "      <td>Debt collection</td>\n",
              "      <td>The option I needed under false statements or ...</td>\n",
              "    </tr>\n",
              "    <tr>\n",
              "      <th>212408</th>\n",
              "      <td>Debt collection</td>\n",
              "      <td>After discharge of a chapter XXXX bankruptcy, ...</td>\n",
              "    </tr>\n",
              "    <tr>\n",
              "      <th>212580</th>\n",
              "      <td>Debt collection</td>\n",
              "      <td>Hello, I have received notice on my XXXX and X...</td>\n",
              "    </tr>\n",
              "    <tr>\n",
              "      <th>200209</th>\n",
              "      <td>Debt collection</td>\n",
              "      <td>My mortgage was sold to Nationstar Mortgage, t...</td>\n",
              "    </tr>\n",
              "    <tr>\n",
              "      <th>208441</th>\n",
              "      <td>Debt collection</td>\n",
              "      <td>This is Part XXXX of case number XXXX.SunTrust...</td>\n",
              "    </tr>\n",
              "    <tr>\n",
              "      <th>205233</th>\n",
              "      <td>Debt collection</td>\n",
              "      <td>Wells Fargo Bank reduced the obligation amount...</td>\n",
              "    </tr>\n",
              "    <tr>\n",
              "      <th>208948</th>\n",
              "      <td>Debt collection</td>\n",
              "      <td>In XX/XX/XXXX I made a loan with HFC/Beneficia...</td>\n",
              "    </tr>\n",
              "    <tr>\n",
              "      <th>216750</th>\n",
              "      <td>Debt collection</td>\n",
              "      <td>My account was reassigned to this company effe...</td>\n",
              "    </tr>\n",
              "    <tr>\n",
              "      <th>221214</th>\n",
              "      <td>Debt collection</td>\n",
              "      <td>XXXX Bank XXXX is the substitutionary plaintif...</td>\n",
              "    </tr>\n",
              "    <tr>\n",
              "      <th>218662</th>\n",
              "      <td>Debt collection</td>\n",
              "      <td>CONRAD DEBT COLLECTORS IN CALIFORNIA ; THEY PU...</td>\n",
              "    </tr>\n",
              "  </tbody>\n",
              "</table>\n",
              "</div>"
            ],
            "text/plain": [
              "                product                       consumer_complaint_narrative\n",
              "198640  Debt collection  1. XXXX is competent to state the matters set ...\n",
              "191294  Debt collection  Lawyers at this law firm ( XXXX ) sent me a le...\n",
              "192077  Debt collection  The option I needed under false statements or ...\n",
              "212408  Debt collection  After discharge of a chapter XXXX bankruptcy, ...\n",
              "212580  Debt collection  Hello, I have received notice on my XXXX and X...\n",
              "200209  Debt collection  My mortgage was sold to Nationstar Mortgage, t...\n",
              "208441  Debt collection  This is Part XXXX of case number XXXX.SunTrust...\n",
              "205233  Debt collection  Wells Fargo Bank reduced the obligation amount...\n",
              "208948  Debt collection  In XX/XX/XXXX I made a loan with HFC/Beneficia...\n",
              "216750  Debt collection  My account was reassigned to this company effe...\n",
              "221214  Debt collection  XXXX Bank XXXX is the substitutionary plaintif...\n",
              "218662  Debt collection  CONRAD DEBT COLLECTORS IN CALIFORNIA ; THEY PU..."
            ]
          },
          "metadata": {
            "tags": []
          }
        },
        {
          "output_type": "stream",
          "text": [
            "\n",
            "'Consumer Loan' predicted as 'Mortgage' : 11 examples.\n"
          ],
          "name": "stdout"
        },
        {
          "output_type": "display_data",
          "data": {
            "text/html": [
              "<div>\n",
              "<style scoped>\n",
              "    .dataframe tbody tr th:only-of-type {\n",
              "        vertical-align: middle;\n",
              "    }\n",
              "\n",
              "    .dataframe tbody tr th {\n",
              "        vertical-align: top;\n",
              "    }\n",
              "\n",
              "    .dataframe thead th {\n",
              "        text-align: right;\n",
              "    }\n",
              "</style>\n",
              "<table border=\"1\" class=\"dataframe\">\n",
              "  <thead>\n",
              "    <tr style=\"text-align: right;\">\n",
              "      <th></th>\n",
              "      <th>product</th>\n",
              "      <th>consumer_complaint_narrative</th>\n",
              "    </tr>\n",
              "  </thead>\n",
              "  <tbody>\n",
              "    <tr>\n",
              "      <th>213075</th>\n",
              "      <td>Consumer Loan</td>\n",
              "      <td>I have an installment loan with high interest ...</td>\n",
              "    </tr>\n",
              "    <tr>\n",
              "      <th>215406</th>\n",
              "      <td>Consumer Loan</td>\n",
              "      <td>i had a loan from texas auto brokersthen they ...</td>\n",
              "    </tr>\n",
              "    <tr>\n",
              "      <th>215350</th>\n",
              "      <td>Consumer Loan</td>\n",
              "      <td>Santander came today to Reposes my XXXX after ...</td>\n",
              "    </tr>\n",
              "    <tr>\n",
              "      <th>199590</th>\n",
              "      <td>Consumer Loan</td>\n",
              "      <td>I tried to create an account at lending tree. ...</td>\n",
              "    </tr>\n",
              "    <tr>\n",
              "      <th>200343</th>\n",
              "      <td>Consumer Loan</td>\n",
              "      <td>Since XXXX XXXX, XX/XX/2015, I have unsuccessf...</td>\n",
              "    </tr>\n",
              "    <tr>\n",
              "      <th>220872</th>\n",
              "      <td>Consumer Loan</td>\n",
              "      <td>Fell upon hard financial times! XXXX business ...</td>\n",
              "    </tr>\n",
              "    <tr>\n",
              "      <th>216917</th>\n",
              "      <td>Consumer Loan</td>\n",
              "      <td>I have a vehicle loan with Santander Consumer....</td>\n",
              "    </tr>\n",
              "    <tr>\n",
              "      <th>217481</th>\n",
              "      <td>Consumer Loan</td>\n",
              "      <td>This issues pertains to a late payment incurre...</td>\n",
              "    </tr>\n",
              "    <tr>\n",
              "      <th>217891</th>\n",
              "      <td>Consumer Loan</td>\n",
              "      <td>I have a car loan through Fifth Third Bank in ...</td>\n",
              "    </tr>\n",
              "    <tr>\n",
              "      <th>208649</th>\n",
              "      <td>Consumer Loan</td>\n",
              "      <td>In XXXX 2013, I was unable to pay the mortgage...</td>\n",
              "    </tr>\n",
              "    <tr>\n",
              "      <th>195549</th>\n",
              "      <td>Consumer Loan</td>\n",
              "      <td>Bank XXXX XXXX sent the payoff on XXXX trucks ...</td>\n",
              "    </tr>\n",
              "  </tbody>\n",
              "</table>\n",
              "</div>"
            ],
            "text/plain": [
              "              product                       consumer_complaint_narrative\n",
              "213075  Consumer Loan  I have an installment loan with high interest ...\n",
              "215406  Consumer Loan  i had a loan from texas auto brokersthen they ...\n",
              "215350  Consumer Loan  Santander came today to Reposes my XXXX after ...\n",
              "199590  Consumer Loan  I tried to create an account at lending tree. ...\n",
              "200343  Consumer Loan  Since XXXX XXXX, XX/XX/2015, I have unsuccessf...\n",
              "220872  Consumer Loan  Fell upon hard financial times! XXXX business ...\n",
              "216917  Consumer Loan  I have a vehicle loan with Santander Consumer....\n",
              "217481  Consumer Loan  This issues pertains to a late payment incurre...\n",
              "217891  Consumer Loan  I have a car loan through Fifth Third Bank in ...\n",
              "208649  Consumer Loan  In XXXX 2013, I was unable to pay the mortgage...\n",
              "195549  Consumer Loan  Bank XXXX XXXX sent the payoff on XXXX trucks ..."
            ]
          },
          "metadata": {
            "tags": []
          }
        },
        {
          "output_type": "stream",
          "text": [
            "\n",
            "'Bank account or service' predicted as 'Credit card or prepaid card' : 14 examples.\n"
          ],
          "name": "stdout"
        },
        {
          "output_type": "display_data",
          "data": {
            "text/html": [
              "<div>\n",
              "<style scoped>\n",
              "    .dataframe tbody tr th:only-of-type {\n",
              "        vertical-align: middle;\n",
              "    }\n",
              "\n",
              "    .dataframe tbody tr th {\n",
              "        vertical-align: top;\n",
              "    }\n",
              "\n",
              "    .dataframe thead th {\n",
              "        text-align: right;\n",
              "    }\n",
              "</style>\n",
              "<table border=\"1\" class=\"dataframe\">\n",
              "  <thead>\n",
              "    <tr style=\"text-align: right;\">\n",
              "      <th></th>\n",
              "      <th>product</th>\n",
              "      <th>consumer_complaint_narrative</th>\n",
              "    </tr>\n",
              "  </thead>\n",
              "  <tbody>\n",
              "    <tr>\n",
              "      <th>211602</th>\n",
              "      <td>Bank account or service</td>\n",
              "      <td>I have been struggling with HSABANK since XXXX...</td>\n",
              "    </tr>\n",
              "    <tr>\n",
              "      <th>213719</th>\n",
              "      <td>Bank account or service</td>\n",
              "      <td>I have been experiencing problems with Wells F...</td>\n",
              "    </tr>\n",
              "    <tr>\n",
              "      <th>212567</th>\n",
              "      <td>Bank account or service</td>\n",
              "      <td>My Chase bank account ending in XXXX was close...</td>\n",
              "    </tr>\n",
              "    <tr>\n",
              "      <th>198844</th>\n",
              "      <td>Bank account or service</td>\n",
              "      <td>Complainant is a partner in a small Ohio-based...</td>\n",
              "    </tr>\n",
              "    <tr>\n",
              "      <th>211284</th>\n",
              "      <td>Bank account or service</td>\n",
              "      <td>This is a Rewards XXXX XXXX Account with Capit...</td>\n",
              "    </tr>\n",
              "    <tr>\n",
              "      <th>209315</th>\n",
              "      <td>Bank account or service</td>\n",
              "      <td>CFPB complaint response to XXXX # XXXX XXXX To...</td>\n",
              "    </tr>\n",
              "    <tr>\n",
              "      <th>217686</th>\n",
              "      <td>Bank account or service</td>\n",
              "      <td>I disputed charges on my credit card since XXX...</td>\n",
              "    </tr>\n",
              "    <tr>\n",
              "      <th>212146</th>\n",
              "      <td>Bank account or service</td>\n",
              "      <td>I received a letter from Fifth Third Bank \" Th...</td>\n",
              "    </tr>\n",
              "    <tr>\n",
              "      <th>209699</th>\n",
              "      <td>Bank account or service</td>\n",
              "      <td>I wish to make a complaint against Santander B...</td>\n",
              "    </tr>\n",
              "    <tr>\n",
              "      <th>220767</th>\n",
              "      <td>Bank account or service</td>\n",
              "      <td>I withdrew {$4500.00} cash from my checking ac...</td>\n",
              "    </tr>\n",
              "    <tr>\n",
              "      <th>210980</th>\n",
              "      <td>Bank account or service</td>\n",
              "      <td>In XXXX of XX/XX/2014 I received an offer from...</td>\n",
              "    </tr>\n",
              "    <tr>\n",
              "      <th>216525</th>\n",
              "      <td>Bank account or service</td>\n",
              "      <td>Activated citibank Debit Visa card on XX/XX/XX...</td>\n",
              "    </tr>\n",
              "    <tr>\n",
              "      <th>208759</th>\n",
              "      <td>Bank account or service</td>\n",
              "      <td>A bank teller, XXXX XXXX, at the SunTrust Bank...</td>\n",
              "    </tr>\n",
              "    <tr>\n",
              "      <th>211483</th>\n",
              "      <td>Bank account or service</td>\n",
              "      <td>I have XXXX checking and XXXX credit card acco...</td>\n",
              "    </tr>\n",
              "  </tbody>\n",
              "</table>\n",
              "</div>"
            ],
            "text/plain": [
              "                        product                       consumer_complaint_narrative\n",
              "211602  Bank account or service  I have been struggling with HSABANK since XXXX...\n",
              "213719  Bank account or service  I have been experiencing problems with Wells F...\n",
              "212567  Bank account or service  My Chase bank account ending in XXXX was close...\n",
              "198844  Bank account or service  Complainant is a partner in a small Ohio-based...\n",
              "211284  Bank account or service  This is a Rewards XXXX XXXX Account with Capit...\n",
              "209315  Bank account or service  CFPB complaint response to XXXX # XXXX XXXX To...\n",
              "217686  Bank account or service  I disputed charges on my credit card since XXX...\n",
              "212146  Bank account or service  I received a letter from Fifth Third Bank \" Th...\n",
              "209699  Bank account or service  I wish to make a complaint against Santander B...\n",
              "220767  Bank account or service  I withdrew {$4500.00} cash from my checking ac...\n",
              "210980  Bank account or service  In XXXX of XX/XX/2014 I received an offer from...\n",
              "216525  Bank account or service  Activated citibank Debit Visa card on XX/XX/XX...\n",
              "208759  Bank account or service  A bank teller, XXXX XXXX, at the SunTrust Bank...\n",
              "211483  Bank account or service  I have XXXX checking and XXXX credit card acco..."
            ]
          },
          "metadata": {
            "tags": []
          }
        },
        {
          "output_type": "stream",
          "text": [
            "\n",
            "'Debt collection' predicted as 'Credit reporting, credit repair services, or other personal consumer reports' : 26 examples.\n"
          ],
          "name": "stdout"
        },
        {
          "output_type": "display_data",
          "data": {
            "text/html": [
              "<div>\n",
              "<style scoped>\n",
              "    .dataframe tbody tr th:only-of-type {\n",
              "        vertical-align: middle;\n",
              "    }\n",
              "\n",
              "    .dataframe tbody tr th {\n",
              "        vertical-align: top;\n",
              "    }\n",
              "\n",
              "    .dataframe thead th {\n",
              "        text-align: right;\n",
              "    }\n",
              "</style>\n",
              "<table border=\"1\" class=\"dataframe\">\n",
              "  <thead>\n",
              "    <tr style=\"text-align: right;\">\n",
              "      <th></th>\n",
              "      <th>product</th>\n",
              "      <th>consumer_complaint_narrative</th>\n",
              "    </tr>\n",
              "  </thead>\n",
              "  <tbody>\n",
              "    <tr>\n",
              "      <th>217923</th>\n",
              "      <td>Debt collection</td>\n",
              "      <td>This company sent a negative information as re...</td>\n",
              "    </tr>\n",
              "    <tr>\n",
              "      <th>213195</th>\n",
              "      <td>Debt collection</td>\n",
              "      <td>I have a few Chase credit card account 's with...</td>\n",
              "    </tr>\n",
              "    <tr>\n",
              "      <th>211674</th>\n",
              "      <td>Debt collection</td>\n",
              "      <td>Federal Student loan servicer for the Departme...</td>\n",
              "    </tr>\n",
              "    <tr>\n",
              "      <th>212441</th>\n",
              "      <td>Debt collection</td>\n",
              "      <td>I started looking in to buying a house last ye...</td>\n",
              "    </tr>\n",
              "    <tr>\n",
              "      <th>214833</th>\n",
              "      <td>Debt collection</td>\n",
              "      <td>A XXXX account was transferred from my name to...</td>\n",
              "    </tr>\n",
              "    <tr>\n",
              "      <th>205828</th>\n",
              "      <td>Debt collection</td>\n",
              "      <td>Year 1996 American Express sent letters, phone...</td>\n",
              "    </tr>\n",
              "    <tr>\n",
              "      <th>202349</th>\n",
              "      <td>Debt collection</td>\n",
              "      <td>This information was suppose to age off my cre...</td>\n",
              "    </tr>\n",
              "    <tr>\n",
              "      <th>216187</th>\n",
              "      <td>Debt collection</td>\n",
              "      <td>I had a invoice that was covered by Medicaid t...</td>\n",
              "    </tr>\n",
              "    <tr>\n",
              "      <th>220051</th>\n",
              "      <td>Debt collection</td>\n",
              "      <td>This is not my bill. I am disputing the experi...</td>\n",
              "    </tr>\n",
              "    <tr>\n",
              "      <th>218004</th>\n",
              "      <td>Debt collection</td>\n",
              "      <td>Ftc case # XXXX, XXXX/XXXX/2008 states that re...</td>\n",
              "    </tr>\n",
              "    <tr>\n",
              "      <th>209603</th>\n",
              "      <td>Debt collection</td>\n",
              "      <td>I paid the account in full. XXXX. I have a cop...</td>\n",
              "    </tr>\n",
              "    <tr>\n",
              "      <th>217459</th>\n",
              "      <td>Debt collection</td>\n",
              "      <td>XXXX XXXX XXXX In XXXX XXXX Georgia Ran An Exp...</td>\n",
              "    </tr>\n",
              "    <tr>\n",
              "      <th>210364</th>\n",
              "      <td>Debt collection</td>\n",
              "      <td>i was looking at my equifax report. it shows t...</td>\n",
              "    </tr>\n",
              "    <tr>\n",
              "      <th>205596</th>\n",
              "      <td>Debt collection</td>\n",
              "      <td>Collections Show All Dispute Options A collect...</td>\n",
              "    </tr>\n",
              "    <tr>\n",
              "      <th>195124</th>\n",
              "      <td>Debt collection</td>\n",
              "      <td>an amount on my credit report which is not in ...</td>\n",
              "    </tr>\n",
              "    <tr>\n",
              "      <th>213242</th>\n",
              "      <td>Debt collection</td>\n",
              "      <td>I submitted a dispute to the colletion agency ...</td>\n",
              "    </tr>\n",
              "    <tr>\n",
              "      <th>208726</th>\n",
              "      <td>Debt collection</td>\n",
              "      <td>Re : IQ DATA internationalAmount : $ XXXXXXXXA...</td>\n",
              "    </tr>\n",
              "    <tr>\n",
              "      <th>218005</th>\n",
              "      <td>Debt collection</td>\n",
              "      <td>Ftc case # XXXX, XXXX/XXXX/2008 states that re...</td>\n",
              "    </tr>\n",
              "    <tr>\n",
              "      <th>213383</th>\n",
              "      <td>Debt collection</td>\n",
              "      <td>They have XXXX collections that were dismissed...</td>\n",
              "    </tr>\n",
              "    <tr>\n",
              "      <th>197563</th>\n",
              "      <td>Debt collection</td>\n",
              "      <td>Someone opened XXXX XXXX XXXX Uverse accounts ...</td>\n",
              "    </tr>\n",
              "    <tr>\n",
              "      <th>219460</th>\n",
              "      <td>Debt collection</td>\n",
              "      <td>Dispute with XXXX XXXX and XXXX credit bureaus \\n</td>\n",
              "    </tr>\n",
              "    <tr>\n",
              "      <th>208123</th>\n",
              "      <td>Debt collection</td>\n",
              "      <td>The service provider stopped providing service...</td>\n",
              "    </tr>\n",
              "    <tr>\n",
              "      <th>219013</th>\n",
              "      <td>Debt collection</td>\n",
              "      <td>i have tried several times to talk to them. Th...</td>\n",
              "    </tr>\n",
              "    <tr>\n",
              "      <th>209161</th>\n",
              "      <td>Debt collection</td>\n",
              "      <td>Refused to agree in writing that account would...</td>\n",
              "    </tr>\n",
              "    <tr>\n",
              "      <th>214252</th>\n",
              "      <td>Debt collection</td>\n",
              "      <td>on my XXXX credit report.i have disputed colle...</td>\n",
              "    </tr>\n",
              "    <tr>\n",
              "      <th>219012</th>\n",
              "      <td>Debt collection</td>\n",
              "      <td>i have tried several times to talk to them. Th...</td>\n",
              "    </tr>\n",
              "  </tbody>\n",
              "</table>\n",
              "</div>"
            ],
            "text/plain": [
              "                product                       consumer_complaint_narrative\n",
              "217923  Debt collection  This company sent a negative information as re...\n",
              "213195  Debt collection  I have a few Chase credit card account 's with...\n",
              "211674  Debt collection  Federal Student loan servicer for the Departme...\n",
              "212441  Debt collection  I started looking in to buying a house last ye...\n",
              "214833  Debt collection  A XXXX account was transferred from my name to...\n",
              "205828  Debt collection  Year 1996 American Express sent letters, phone...\n",
              "202349  Debt collection  This information was suppose to age off my cre...\n",
              "216187  Debt collection  I had a invoice that was covered by Medicaid t...\n",
              "220051  Debt collection  This is not my bill. I am disputing the experi...\n",
              "218004  Debt collection  Ftc case # XXXX, XXXX/XXXX/2008 states that re...\n",
              "209603  Debt collection  I paid the account in full. XXXX. I have a cop...\n",
              "217459  Debt collection  XXXX XXXX XXXX In XXXX XXXX Georgia Ran An Exp...\n",
              "210364  Debt collection  i was looking at my equifax report. it shows t...\n",
              "205596  Debt collection  Collections Show All Dispute Options A collect...\n",
              "195124  Debt collection  an amount on my credit report which is not in ...\n",
              "213242  Debt collection  I submitted a dispute to the colletion agency ...\n",
              "208726  Debt collection  Re : IQ DATA internationalAmount : $ XXXXXXXXA...\n",
              "218005  Debt collection  Ftc case # XXXX, XXXX/XXXX/2008 states that re...\n",
              "213383  Debt collection  They have XXXX collections that were dismissed...\n",
              "197563  Debt collection  Someone opened XXXX XXXX XXXX Uverse accounts ...\n",
              "219460  Debt collection  Dispute with XXXX XXXX and XXXX credit bureaus \\n\n",
              "208123  Debt collection  The service provider stopped providing service...\n",
              "219013  Debt collection  i have tried several times to talk to them. Th...\n",
              "209161  Debt collection  Refused to agree in writing that account would...\n",
              "214252  Debt collection  on my XXXX credit report.i have disputed colle...\n",
              "219012  Debt collection  i have tried several times to talk to them. Th..."
            ]
          },
          "metadata": {
            "tags": []
          }
        },
        {
          "output_type": "stream",
          "text": [
            "\n",
            "'Consumer Loan' predicted as 'Credit reporting, credit repair services, or other personal consumer reports' : 11 examples.\n"
          ],
          "name": "stdout"
        },
        {
          "output_type": "display_data",
          "data": {
            "text/html": [
              "<div>\n",
              "<style scoped>\n",
              "    .dataframe tbody tr th:only-of-type {\n",
              "        vertical-align: middle;\n",
              "    }\n",
              "\n",
              "    .dataframe tbody tr th {\n",
              "        vertical-align: top;\n",
              "    }\n",
              "\n",
              "    .dataframe thead th {\n",
              "        text-align: right;\n",
              "    }\n",
              "</style>\n",
              "<table border=\"1\" class=\"dataframe\">\n",
              "  <thead>\n",
              "    <tr style=\"text-align: right;\">\n",
              "      <th></th>\n",
              "      <th>product</th>\n",
              "      <th>consumer_complaint_narrative</th>\n",
              "    </tr>\n",
              "  </thead>\n",
              "  <tbody>\n",
              "    <tr>\n",
              "      <th>217971</th>\n",
              "      <td>Consumer Loan</td>\n",
              "      <td>The company has failed to properly update my c...</td>\n",
              "    </tr>\n",
              "    <tr>\n",
              "      <th>218033</th>\n",
              "      <td>Consumer Loan</td>\n",
              "      <td>In 2007 my ex-wife and I divorced. I had XXXX ...</td>\n",
              "    </tr>\n",
              "    <tr>\n",
              "      <th>216705</th>\n",
              "      <td>Consumer Loan</td>\n",
              "      <td>On XXXX XXXX I submitted a form to LendingTree...</td>\n",
              "    </tr>\n",
              "    <tr>\n",
              "      <th>201113</th>\n",
              "      <td>Consumer Loan</td>\n",
              "      <td>Hard inquiry ran on my credit report by this c...</td>\n",
              "    </tr>\n",
              "    <tr>\n",
              "      <th>208628</th>\n",
              "      <td>Consumer Loan</td>\n",
              "      <td>Kaye Jewelers put o my credit report on XXXX t...</td>\n",
              "    </tr>\n",
              "    <tr>\n",
              "      <th>220885</th>\n",
              "      <td>Consumer Loan</td>\n",
              "      <td>OK back in XXXX XXXX i purchased a XXXX XXXX f...</td>\n",
              "    </tr>\n",
              "    <tr>\n",
              "      <th>211296</th>\n",
              "      <td>Consumer Loan</td>\n",
              "      <td>I contacted Quality Acceptance LLC in Febuary ...</td>\n",
              "    </tr>\n",
              "    <tr>\n",
              "      <th>210685</th>\n",
              "      <td>Consumer Loan</td>\n",
              "      <td>I have had an account with DriveTime for over ...</td>\n",
              "    </tr>\n",
              "    <tr>\n",
              "      <th>196789</th>\n",
              "      <td>Consumer Loan</td>\n",
              "      <td>the company dollar loan center somewhere in XX...</td>\n",
              "    </tr>\n",
              "    <tr>\n",
              "      <th>218030</th>\n",
              "      <td>Consumer Loan</td>\n",
              "      <td>In 2007 my ex-wife and I XXXX. I had XXXX vehi...</td>\n",
              "    </tr>\n",
              "    <tr>\n",
              "      <th>209754</th>\n",
              "      <td>Consumer Loan</td>\n",
              "      <td>We have an auto loan with Ally Financial. We c...</td>\n",
              "    </tr>\n",
              "  </tbody>\n",
              "</table>\n",
              "</div>"
            ],
            "text/plain": [
              "              product                       consumer_complaint_narrative\n",
              "217971  Consumer Loan  The company has failed to properly update my c...\n",
              "218033  Consumer Loan  In 2007 my ex-wife and I divorced. I had XXXX ...\n",
              "216705  Consumer Loan  On XXXX XXXX I submitted a form to LendingTree...\n",
              "201113  Consumer Loan  Hard inquiry ran on my credit report by this c...\n",
              "208628  Consumer Loan  Kaye Jewelers put o my credit report on XXXX t...\n",
              "220885  Consumer Loan  OK back in XXXX XXXX i purchased a XXXX XXXX f...\n",
              "211296  Consumer Loan  I contacted Quality Acceptance LLC in Febuary ...\n",
              "210685  Consumer Loan  I have had an account with DriveTime for over ...\n",
              "196789  Consumer Loan  the company dollar loan center somewhere in XX...\n",
              "218030  Consumer Loan  In 2007 my ex-wife and I XXXX. I had XXXX vehi...\n",
              "209754  Consumer Loan  We have an auto loan with Ally Financial. We c..."
            ]
          },
          "metadata": {
            "tags": []
          }
        },
        {
          "output_type": "stream",
          "text": [
            "\n",
            "'Credit card or prepaid card' predicted as 'Bank account or service' : 11 examples.\n"
          ],
          "name": "stdout"
        },
        {
          "output_type": "display_data",
          "data": {
            "text/html": [
              "<div>\n",
              "<style scoped>\n",
              "    .dataframe tbody tr th:only-of-type {\n",
              "        vertical-align: middle;\n",
              "    }\n",
              "\n",
              "    .dataframe tbody tr th {\n",
              "        vertical-align: top;\n",
              "    }\n",
              "\n",
              "    .dataframe thead th {\n",
              "        text-align: right;\n",
              "    }\n",
              "</style>\n",
              "<table border=\"1\" class=\"dataframe\">\n",
              "  <thead>\n",
              "    <tr style=\"text-align: right;\">\n",
              "      <th></th>\n",
              "      <th>product</th>\n",
              "      <th>consumer_complaint_narrative</th>\n",
              "    </tr>\n",
              "  </thead>\n",
              "  <tbody>\n",
              "    <tr>\n",
              "      <th>213636</th>\n",
              "      <td>Credit card or prepaid card</td>\n",
              "      <td>I did paid off Discovery Card with XXXX Bank X...</td>\n",
              "    </tr>\n",
              "    <tr>\n",
              "      <th>209266</th>\n",
              "      <td>Credit card or prepaid card</td>\n",
              "      <td>In XXXX of 2012 we opened up a Bank of America...</td>\n",
              "    </tr>\n",
              "    <tr>\n",
              "      <th>207804</th>\n",
              "      <td>Credit card or prepaid card</td>\n",
              "      <td>Complaint against XXXX XXXX and Bank of Americ...</td>\n",
              "    </tr>\n",
              "    <tr>\n",
              "      <th>203847</th>\n",
              "      <td>Credit card or prepaid card</td>\n",
              "      <td>My name is XXXX XXXX XXXX, I live at XXXX XXXX...</td>\n",
              "    </tr>\n",
              "    <tr>\n",
              "      <th>216773</th>\n",
              "      <td>Credit card or prepaid card</td>\n",
              "      <td>XXXX has been charging my account with a \" Deb...</td>\n",
              "    </tr>\n",
              "    <tr>\n",
              "      <th>200690</th>\n",
              "      <td>Credit card or prepaid card</td>\n",
              "      <td>I HAD A CREDIT BALANCE ON MY ACCOUNT OF XXXX C...</td>\n",
              "    </tr>\n",
              "    <tr>\n",
              "      <th>210842</th>\n",
              "      <td>Credit card or prepaid card</td>\n",
              "      <td>My husband and I have a Bank of America Visa a...</td>\n",
              "    </tr>\n",
              "    <tr>\n",
              "      <th>217378</th>\n",
              "      <td>Credit card or prepaid card</td>\n",
              "      <td>We had fraud in our office and money was stole...</td>\n",
              "    </tr>\n",
              "    <tr>\n",
              "      <th>196444</th>\n",
              "      <td>Credit card or prepaid card</td>\n",
              "      <td>I applied for the Paypal Extras Mastercard and...</td>\n",
              "    </tr>\n",
              "    <tr>\n",
              "      <th>206954</th>\n",
              "      <td>Credit card or prepaid card</td>\n",
              "      <td>I paid my credit card bill on the due date of ...</td>\n",
              "    </tr>\n",
              "    <tr>\n",
              "      <th>205610</th>\n",
              "      <td>Credit card or prepaid card</td>\n",
              "      <td>Paypal smart connect was impacted by fraud/una...</td>\n",
              "    </tr>\n",
              "  </tbody>\n",
              "</table>\n",
              "</div>"
            ],
            "text/plain": [
              "                            product                       consumer_complaint_narrative\n",
              "213636  Credit card or prepaid card  I did paid off Discovery Card with XXXX Bank X...\n",
              "209266  Credit card or prepaid card  In XXXX of 2012 we opened up a Bank of America...\n",
              "207804  Credit card or prepaid card  Complaint against XXXX XXXX and Bank of Americ...\n",
              "203847  Credit card or prepaid card  My name is XXXX XXXX XXXX, I live at XXXX XXXX...\n",
              "216773  Credit card or prepaid card  XXXX has been charging my account with a \" Deb...\n",
              "200690  Credit card or prepaid card  I HAD A CREDIT BALANCE ON MY ACCOUNT OF XXXX C...\n",
              "210842  Credit card or prepaid card  My husband and I have a Bank of America Visa a...\n",
              "217378  Credit card or prepaid card  We had fraud in our office and money was stole...\n",
              "196444  Credit card or prepaid card  I applied for the Paypal Extras Mastercard and...\n",
              "206954  Credit card or prepaid card  I paid my credit card bill on the due date of ...\n",
              "205610  Credit card or prepaid card  Paypal smart connect was impacted by fraud/una..."
            ]
          },
          "metadata": {
            "tags": []
          }
        },
        {
          "output_type": "stream",
          "text": [
            "\n"
          ],
          "name": "stdout"
        }
      ]
    },
    {
      "cell_type": "markdown",
      "metadata": {
        "id": "-N6C9D0TJcQN"
      },
      "source": [
        "Some of the misclassified complaints are complaints that touch on more than one subjects (for example, complaints involving both credit card and credit report)."
      ]
    },
    {
      "cell_type": "markdown",
      "metadata": {
        "id": "hHHcwMHNJcl3"
      },
      "source": [
        "Finally, we print out the classification report for each class:"
      ]
    },
    {
      "cell_type": "code",
      "metadata": {
        "colab": {
          "base_uri": "https://localhost:8080/"
        },
        "id": "mIdIvh2HJeux",
        "outputId": "b1c615cc-a2b3-4fdd-b7cf-6cfeb6991724"
      },
      "source": [
        "from sklearn import metrics\r\n",
        "print(metrics.classification_report(y_test, y_pred, target_names=df['product'].unique()))"
      ],
      "execution_count": 26,
      "outputs": [
        {
          "output_type": "stream",
          "text": [
            "                                                                              precision    recall  f1-score   support\n",
            "\n",
            "                                                             Debt collection       0.81      0.89      0.85       568\n",
            "                                                               Consumer Loan       0.77      0.50      0.60       111\n",
            "                                                                    Mortgage       0.91      0.97      0.94       460\n",
            "                                                 Credit card or prepaid card       0.79      0.80      0.79       231\n",
            "Credit reporting, credit repair services, or other personal consumer reports       0.82      0.83      0.82       312\n",
            "                                                                Student loan       0.86      0.79      0.82        85\n",
            "                                                     Bank account or service       0.79      0.78      0.78       150\n",
            "                                   Payday loan, title loan, or personal loan       0.80      0.13      0.22        31\n",
            "                                                             Money transfers       0.82      0.50      0.62        18\n",
            "                                                                Prepaid card       1.00      0.07      0.13        14\n",
            "\n",
            "                                                                    accuracy                           0.83      1980\n",
            "                                                                   macro avg       0.84      0.63      0.66      1980\n",
            "                                                                weighted avg       0.83      0.83      0.82      1980\n",
            "\n"
          ],
          "name": "stdout"
        }
      ]
    },
    {
      "cell_type": "code",
      "metadata": {
        "id": "GrFz-x0kwGhS"
      },
      "source": [
        "def print_plot(index):\r\n",
        "    example = df[df.index == index][['consumer_complaint_narrative', 'product']].values[0]\r\n",
        "    if len(example) > 0:\r\n",
        "        print(example[0])\r\n",
        "        print('Product:', example[1])"
      ],
      "execution_count": 8,
      "outputs": []
    },
    {
      "cell_type": "code",
      "metadata": {
        "id": "AfC5ZsgoxXU0"
      },
      "source": [
        "import nltk\r\n",
        "from nltk.corpus import stopwords"
      ],
      "execution_count": null,
      "outputs": []
    },
    {
      "cell_type": "code",
      "metadata": {
        "id": "1fpKOZzZuviu"
      },
      "source": [
        "import regex as re\r\n",
        "df = df.reset_index(drop=True)\r\n",
        "REPLACE_BY_SPACE_RE = re.compile('[/(){}\\[\\]\\|@,;]')\r\n",
        "BAD_SYMBOLS_RE = re.compile('[^0-9a-z #+_]')\r\n",
        "STOPWORDS = set(stopwords.words('english'))\r\n",
        "\r\n",
        "def clean_text(text):\r\n",
        "    \"\"\"\r\n",
        "        text: a string\r\n",
        "        \r\n",
        "        return: modified initial string\r\n",
        "    \"\"\"\r\n",
        "    text = text.lower() # lowercase text\r\n",
        "    text = REPLACE_BY_SPACE_RE.sub(' ', text) # replace REPLACE_BY_SPACE_RE symbols by space in text. substitute the matched string in REPLACE_BY_SPACE_RE with space.\r\n",
        "    text = BAD_SYMBOLS_RE.sub('', text) # remove symbols which are in BAD_SYMBOLS_RE from text. substitute the matched string in BAD_SYMBOLS_RE with nothing. \r\n",
        "    text = text.replace('x', '')\r\n",
        "#    text = re.sub(r'\\W+', '', text)\r\n",
        "    text = ' '.join(word for word in text.split() if word not in STOPWORDS) # remove stopwors from text\r\n",
        "    return text\r\n",
        "\r\n",
        "df['consumer_complaint_narrative'] = df['consumer_complaint_narrative'].apply(clean_text)\r\n",
        "df['consumer_complaint_narrative'] = df['consumer_complaint_narrative'].str.replace('\\d+', '') "
      ],
      "execution_count": 14,
      "outputs": []
    },
    {
      "cell_type": "code",
      "metadata": {
        "colab": {
          "base_uri": "https://localhost:8080/"
        },
        "id": "O_RMuPLJyikZ",
        "outputId": "c63f9523-69e0-4259-e82d-8aad68a0b268"
      },
      "source": [
        "print_plot(10)"
      ],
      "execution_count": 15,
      "outputs": [
        {
          "output_type": "stream",
          "text": [
            "disappointed cfpb help resolve fraudulant loan # ff aka one west case # cfpb\n",
            "Product: Mortgage\n"
          ],
          "name": "stdout"
        }
      ]
    },
    {
      "cell_type": "code",
      "metadata": {
        "colab": {
          "base_uri": "https://localhost:8080/"
        },
        "id": "kvBeQdC520Iq",
        "outputId": "1957f41d-fe28-44ec-85e0-8d3ba0c5976a"
      },
      "source": [
        "from keras.preprocessing.text import Tokenizer\r\n",
        "# The maximum number of words to be used. (most frequent)\r\n",
        "MAX_NB_WORDS = 50000\r\n",
        "# Max number of words in each complaint.\r\n",
        "MAX_SEQUENCE_LENGTH = 250\r\n",
        "# This is fixed.\r\n",
        "EMBEDDING_DIM = 100\r\n",
        "tokenizer = Tokenizer(num_words=MAX_NB_WORDS, filters='!\"#$%&()*+,-./:;<=>?@[\\]^_`{|}~', lower=True)\r\n",
        "tokenizer.fit_on_texts(df['consumer_complaint_narrative'].values)\r\n",
        "word_index = tokenizer.word_index\r\n",
        "print('Found %s unique tokens.' % len(word_index))"
      ],
      "execution_count": 16,
      "outputs": [
        {
          "output_type": "stream",
          "text": [
            "Found 56726 unique tokens.\n"
          ],
          "name": "stdout"
        }
      ]
    },
    {
      "cell_type": "code",
      "metadata": {
        "colab": {
          "base_uri": "https://localhost:8080/"
        },
        "id": "zgqSM3AP3WlI",
        "outputId": "61501a02-8f0e-4478-febb-34f805fbe95e"
      },
      "source": [
        "from keras.preprocessing.sequence import pad_sequences\r\n",
        "X = tokenizer.texts_to_sequences(df['consumer_complaint_narrative'].values)\r\n",
        "X = pad_sequences(X, maxlen=MAX_SEQUENCE_LENGTH)\r\n",
        "print('Shape of data tensor:', X.shape)"
      ],
      "execution_count": 17,
      "outputs": [
        {
          "output_type": "stream",
          "text": [
            "Shape of data tensor: (66696, 250)\n"
          ],
          "name": "stdout"
        }
      ]
    },
    {
      "cell_type": "code",
      "metadata": {
        "colab": {
          "base_uri": "https://localhost:8080/"
        },
        "id": "j8fIaeRv3w9t",
        "outputId": "6f9efca8-f4a2-445a-e98d-6e6b4060f49d"
      },
      "source": [
        "import pandas as pd\r\n",
        "Y = pd.get_dummies(df['product']).values\r\n",
        "print('Shape of label tensor:', Y.shape)"
      ],
      "execution_count": 18,
      "outputs": [
        {
          "output_type": "stream",
          "text": [
            "Shape of label tensor: (66696, 10)\n"
          ],
          "name": "stdout"
        }
      ]
    },
    {
      "cell_type": "code",
      "metadata": {
        "colab": {
          "base_uri": "https://localhost:8080/"
        },
        "id": "RX5gAkRC35Gt",
        "outputId": "095084e4-96b2-4382-960b-1988a5234e83"
      },
      "source": [
        "from sklearn.model_selection import train_test_split\r\n",
        "X_train, X_test, Y_train, Y_test = train_test_split(X,Y, test_size = 0.10, random_state = 42)\r\n",
        "print(X_train.shape,Y_train.shape)\r\n",
        "print(X_test.shape,Y_test.shape)"
      ],
      "execution_count": 19,
      "outputs": [
        {
          "output_type": "stream",
          "text": [
            "(60026, 250) (60026, 10)\n",
            "(6670, 250) (6670, 10)\n"
          ],
          "name": "stdout"
        }
      ]
    },
    {
      "cell_type": "markdown",
      "metadata": {
        "id": "FqZRHYn-4RcP"
      },
      "source": [
        "1. The first layer is the embedded layer that uses 100 length vectors to represent each word.\r\n",
        "2. SpatialDropout1D performs variational dropout in NLP models.\r\n",
        "3. The next layer is the LSTM layer with 100 memory units.\r\n",
        "4. The output layer must create 13 output values, one for each class.\r\n",
        "5. Activation function is softmax for multi-class classification.\r\n",
        "6. Because it is a multi-class classification problem, categorical_crossentropy is used as the loss function."
      ]
    },
    {
      "cell_type": "code",
      "metadata": {
        "colab": {
          "base_uri": "https://localhost:8080/"
        },
        "id": "xwbHN5a64HAG",
        "outputId": "4b0b8c7b-e675-4bf3-fa95-c5521be59375"
      },
      "source": [
        "from keras.models import Sequential\r\n",
        "from keras.layers import Embedding, SpatialDropout1D, LSTM, Dense\r\n",
        "from keras.callbacks import ModelCheckpoint, EarlyStopping\r\n",
        "model = Sequential()\r\n",
        "model.add(Embedding(MAX_NB_WORDS, EMBEDDING_DIM, input_length=X.shape[1]))\r\n",
        "model.add(SpatialDropout1D(0.2))\r\n",
        "model.add(LSTM(100, dropout=0.2, recurrent_dropout=0.2))\r\n",
        "model.add(Dense(10, activation='softmax'))\r\n",
        "model.compile(loss='categorical_crossentropy', optimizer='adam', metrics=['accuracy'])\r\n",
        "\r\n",
        "epochs = 5\r\n",
        "batch_size = 64\r\n",
        "\r\n",
        "history = model.fit(X_train, Y_train, epochs=epochs, batch_size=batch_size,validation_split=0.1,callbacks=[EarlyStopping(monitor='val_loss', patience=3, min_delta=0.0001)])"
      ],
      "execution_count": 20,
      "outputs": [
        {
          "output_type": "stream",
          "text": [
            "Epoch 1/5\n",
            "845/845 [==============================] - 619s 729ms/step - loss: 1.3934 - accuracy: 0.5315 - val_loss: 0.8223 - val_accuracy: 0.7526\n",
            "Epoch 2/5\n",
            "845/845 [==============================] - 604s 715ms/step - loss: 0.8018 - accuracy: 0.7620 - val_loss: 0.9210 - val_accuracy: 0.7275\n",
            "Epoch 3/5\n",
            "845/845 [==============================] - 610s 722ms/step - loss: 0.7577 - accuracy: 0.7702 - val_loss: 0.7023 - val_accuracy: 0.7911\n",
            "Epoch 4/5\n",
            "845/845 [==============================] - 611s 723ms/step - loss: 0.5956 - accuracy: 0.8167 - val_loss: 0.6627 - val_accuracy: 0.8016\n",
            "Epoch 5/5\n",
            "845/845 [==============================] - 611s 723ms/step - loss: 0.5283 - accuracy: 0.8407 - val_loss: 0.6121 - val_accuracy: 0.8189\n"
          ],
          "name": "stdout"
        }
      ]
    },
    {
      "cell_type": "code",
      "metadata": {
        "colab": {
          "base_uri": "https://localhost:8080/"
        },
        "id": "kvLKPftt6CzZ",
        "outputId": "e1bf3bb9-b0f9-4ea2-e3f4-7e1998be2558"
      },
      "source": [
        "accr = model.evaluate(X_test,Y_test)\r\n",
        "print('Test set\\n  Loss: {:0.3f}\\n  Accuracy: {:0.3f}'.format(accr[0],accr[1]))"
      ],
      "execution_count": 22,
      "outputs": [
        {
          "output_type": "stream",
          "text": [
            "209/209 [==============================] - 14s 65ms/step - loss: 0.5869 - accuracy: 0.8307\n",
            "Test set\n",
            "  Loss: 0.587\n",
            "  Accuracy: 0.831\n"
          ],
          "name": "stdout"
        }
      ]
    },
    {
      "cell_type": "code",
      "metadata": {
        "colab": {
          "base_uri": "https://localhost:8080/",
          "height": 281
        },
        "id": "dCaz53Fy6D5w",
        "outputId": "a10effeb-3e49-4789-e1d9-15a68930f951"
      },
      "source": [
        "plt.title('Loss')\r\n",
        "plt.plot(history.history['loss'], label='train')\r\n",
        "plt.plot(history.history['val_loss'], label='test')\r\n",
        "plt.legend()\r\n",
        "plt.show()"
      ],
      "execution_count": 23,
      "outputs": [
        {
          "output_type": "display_data",
          "data": {
            "image/png": "[encoded data removed]",
            "text/plain": [
              "<Figure size 432x288 with 1 Axes>"
            ]
          },
          "metadata": {
            "tags": [],
            "needs_background": "light"
          }
        }
      ]
    },
    {
      "cell_type": "code",
      "metadata": {
        "colab": {
          "base_uri": "https://localhost:8080/",
          "height": 281
        },
        "id": "UCQD-ciM6JQd",
        "outputId": "0592009c-7d32-4361-8bd0-48396e0164d5"
      },
      "source": [
        "plt.title('Accuracy')\r\n",
        "plt.plot(history.history['accuracy'], label='train')\r\n",
        "plt.plot(history.history['val_accuracy'], label='test')\r\n",
        "plt.legend()\r\n",
        "plt.show()"
      ],
      "execution_count": 27,
      "outputs": [
        {
          "output_type": "display_data",
          "data": {
            "image/png": "[encoded data removed]",
            "text/plain": [
              "<Figure size 432x288 with 1 Axes>"
            ]
          },
          "metadata": {
            "tags": [],
            "needs_background": "light"
          }
        }
      ]
    },
    {
      "cell_type": "markdown",
      "metadata": {
        "id": "iElMFw0N6SB3"
      },
      "source": [
        "Test with a new consumer complaint"
      ]
    },
    {
      "cell_type": "code",
      "metadata": {
        "colab": {
          "base_uri": "https://localhost:8080/"
        },
        "id": "wxFPjLUa6N6i",
        "outputId": "24cceadb-b4c9-426c-b1f7-310103e582f6"
      },
      "source": [
        "import numpy as np\r\n",
        "new_complaint = ['I am a victim of identity theft and someone stole my identity and personal information to open up a Visa credit card account with Bank of America. The following Bank of America Visa credit card account do not belong to me : XXXX.']\r\n",
        "seq = tokenizer.texts_to_sequences(new_complaint)\r\n",
        "padded = pad_sequences(seq, maxlen=MAX_SEQUENCE_LENGTH)\r\n",
        "pred = model.predict(padded)\r\n",
        "labels = ['Credit reporting, credit repair services, or other personal consumer reports', 'Debt collection', 'Mortgage', 'Credit card or prepaid card', 'Student loan', 'Bank account or service', 'Checking or savings account', 'Consumer Loan', 'Payday loan, title loan, or personal loan', 'Vehicle loan or lease', 'Money transfer, virtual currency, or money service', 'Money transfers', 'Prepaid card']\r\n",
        "print(pred, labels[np.argmax(pred)])"
      ],
      "execution_count": 28,
      "outputs": [
        {
          "output_type": "stream",
          "text": [
            "[[3.5479125e-02 3.6069911e-02 4.9992043e-01 3.4831482e-01 7.0890553e-02\n",
            "  2.7344917e-04 7.0431330e-03 4.6448718e-04 1.0672034e-03 4.7685998e-04]] Mortgage\n"
          ],
          "name": "stdout"
        }
      ]
    },
    {
      "cell_type": "markdown",
      "metadata": {
        "id": "Ijn2CHOAeq8i"
      },
      "source": [
        "Credits: towardsdatascience.com"
      ]
    }
  ]
}